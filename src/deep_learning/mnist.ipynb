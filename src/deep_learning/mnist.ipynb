{
 "cells": [
  {
   "cell_type": "code",
   "execution_count": 1,
   "metadata": {},
   "outputs": [
    {
     "name": "stderr",
     "output_type": "stream",
     "text": [
      "2022-03-09 14:08:44.801901: W tensorflow/stream_executor/platform/default/dso_loader.cc:64] Could not load dynamic library 'libcudart.so.11.0'; dlerror: libcudart.so.11.0: cannot open shared object file: No such file or directory\n",
      "2022-03-09 14:08:44.801931: I tensorflow/stream_executor/cuda/cudart_stub.cc:29] Ignore above cudart dlerror if you do not have a GPU set up on your machine.\n"
     ]
    }
   ],
   "source": [
    "import tensorflow as tf\n",
    "from tensorflow import keras\n",
    "import pandas as pd\n",
    "import matplotlib.pyplot as plt"
   ]
  },
  {
   "cell_type": "code",
   "execution_count": 2,
   "metadata": {},
   "outputs": [],
   "source": [
    "fashion_mnist = keras.datasets.fashion_mnist\n",
    "(X_train_full, y_train_full), (X_test, y_test) = fashion_mnist.load_data()"
   ]
  },
  {
   "cell_type": "code",
   "execution_count": 3,
   "metadata": {},
   "outputs": [
    {
     "data": {
      "text/plain": [
       "(60000, 28, 28)"
      ]
     },
     "execution_count": 3,
     "metadata": {},
     "output_type": "execute_result"
    }
   ],
   "source": [
    "X_train_full.shape"
   ]
  },
  {
   "cell_type": "code",
   "execution_count": 3,
   "metadata": {},
   "outputs": [],
   "source": [
    "X_valid, X_train = X_train_full[:5000] / 255.0, X_train_full[5000:] / 255.0\n",
    "y_valid, y_train = y_train_full[:5000], y_train_full[5000:]\n",
    "\n",
    "class_names = [\n",
    "    \"T-shirt/top\",\n",
    "    \"Trouser\",\n",
    "    \"Pullover\",\n",
    "    \"Dress\",\n",
    "    \"Coat\",\n",
    "    \"Sandal\",\n",
    "    \"Shirt\",\n",
    "    \"Sneaker\",\n",
    "    \"Bag\",\n",
    "    \"Ankle boot\",\n",
    "]"
   ]
  },
  {
   "cell_type": "code",
   "execution_count": 5,
   "metadata": {},
   "outputs": [
    {
     "data": {
      "text/plain": [
       "'Coat'"
      ]
     },
     "execution_count": 5,
     "metadata": {},
     "output_type": "execute_result"
    }
   ],
   "source": [
    "class_names[y_train[0]]"
   ]
  },
  {
   "cell_type": "code",
   "execution_count": 6,
   "metadata": {},
   "outputs": [
    {
     "name": "stderr",
     "output_type": "stream",
     "text": [
      "2022-03-08 22:35:49.572621: W tensorflow/stream_executor/platform/default/dso_loader.cc:64] Could not load dynamic library 'libcuda.so.1'; dlerror: libcuda.so.1: cannot open shared object file: No such file or directory\n",
      "2022-03-08 22:35:49.572664: W tensorflow/stream_executor/cuda/cuda_driver.cc:269] failed call to cuInit: UNKNOWN ERROR (303)\n",
      "2022-03-08 22:35:49.572692: I tensorflow/stream_executor/cuda/cuda_diagnostics.cc:156] kernel driver does not appear to be running on this host (pop-os): /proc/driver/nvidia/version does not exist\n",
      "2022-03-08 22:35:49.573843: I tensorflow/core/platform/cpu_feature_guard.cc:151] This TensorFlow binary is optimized with oneAPI Deep Neural Network Library (oneDNN) to use the following CPU instructions in performance-critical operations:  AVX2 FMA\n",
      "To enable them in other operations, rebuild TensorFlow with the appropriate compiler flags.\n"
     ]
    },
    {
     "name": "stdout",
     "output_type": "stream",
     "text": [
      "Epoch 1/50\n",
      "1719/1719 [==============================] - 6s 3ms/step - loss: 0.6398 - accuracy: 0.7739 - val_loss: 0.4421 - val_accuracy: 0.8344\n",
      "Epoch 2/50\n",
      "1719/1719 [==============================] - 5s 3ms/step - loss: 0.4779 - accuracy: 0.8268 - val_loss: 0.3921 - val_accuracy: 0.8574\n",
      "Epoch 3/50\n",
      "1719/1719 [==============================] - 5s 3ms/step - loss: 0.4408 - accuracy: 0.8394 - val_loss: 0.3738 - val_accuracy: 0.8602\n",
      "Epoch 4/50\n",
      "1719/1719 [==============================] - 5s 3ms/step - loss: 0.4185 - accuracy: 0.8474 - val_loss: 0.3734 - val_accuracy: 0.8604\n",
      "Epoch 5/50\n",
      "1719/1719 [==============================] - 5s 3ms/step - loss: 0.4035 - accuracy: 0.8518 - val_loss: 0.3645 - val_accuracy: 0.8618\n",
      "Epoch 6/50\n",
      "1719/1719 [==============================] - 5s 3ms/step - loss: 0.3883 - accuracy: 0.8574 - val_loss: 0.3489 - val_accuracy: 0.8746\n",
      "Epoch 7/50\n",
      "1719/1719 [==============================] - 5s 3ms/step - loss: 0.3739 - accuracy: 0.8638 - val_loss: 0.3538 - val_accuracy: 0.8726\n",
      "Epoch 8/50\n",
      "1719/1719 [==============================] - 5s 3ms/step - loss: 0.3640 - accuracy: 0.8671 - val_loss: 0.3272 - val_accuracy: 0.8770\n",
      "Epoch 9/50\n",
      "1719/1719 [==============================] - 5s 3ms/step - loss: 0.3583 - accuracy: 0.8695 - val_loss: 0.3387 - val_accuracy: 0.8768\n",
      "Epoch 10/50\n",
      "1719/1719 [==============================] - 5s 3ms/step - loss: 0.3485 - accuracy: 0.8730 - val_loss: 0.3400 - val_accuracy: 0.8758\n",
      "Epoch 11/50\n",
      "1719/1719 [==============================] - 5s 3ms/step - loss: 0.3443 - accuracy: 0.8738 - val_loss: 0.3230 - val_accuracy: 0.8764\n",
      "Epoch 12/50\n",
      "1719/1719 [==============================] - 5s 3ms/step - loss: 0.3361 - accuracy: 0.8773 - val_loss: 0.3166 - val_accuracy: 0.8862\n",
      "Epoch 13/50\n",
      "1719/1719 [==============================] - 5s 3ms/step - loss: 0.3334 - accuracy: 0.8783 - val_loss: 0.3380 - val_accuracy: 0.8806\n",
      "Epoch 14/50\n",
      "1719/1719 [==============================] - 5s 3ms/step - loss: 0.3288 - accuracy: 0.8795 - val_loss: 0.3245 - val_accuracy: 0.8816\n",
      "Epoch 15/50\n",
      "1719/1719 [==============================] - 7s 4ms/step - loss: 0.3243 - accuracy: 0.8820 - val_loss: 0.3166 - val_accuracy: 0.8882\n",
      "Epoch 16/50\n",
      "1719/1719 [==============================] - 6s 3ms/step - loss: 0.3177 - accuracy: 0.8827 - val_loss: 0.3180 - val_accuracy: 0.8870\n",
      "Epoch 17/50\n",
      "1719/1719 [==============================] - 6s 3ms/step - loss: 0.3162 - accuracy: 0.8850 - val_loss: 0.3036 - val_accuracy: 0.8912\n",
      "Epoch 18/50\n",
      "1719/1719 [==============================] - 5s 3ms/step - loss: 0.3135 - accuracy: 0.8837 - val_loss: 0.3094 - val_accuracy: 0.8904\n",
      "Epoch 19/50\n",
      "1719/1719 [==============================] - 6s 3ms/step - loss: 0.3061 - accuracy: 0.8868 - val_loss: 0.3129 - val_accuracy: 0.8926\n",
      "Epoch 20/50\n",
      "1719/1719 [==============================] - 6s 3ms/step - loss: 0.3032 - accuracy: 0.8889 - val_loss: 0.2994 - val_accuracy: 0.8928\n",
      "Epoch 21/50\n",
      "1719/1719 [==============================] - 6s 3ms/step - loss: 0.3012 - accuracy: 0.8888 - val_loss: 0.3208 - val_accuracy: 0.8890\n",
      "Epoch 22/50\n",
      "1719/1719 [==============================] - 6s 3ms/step - loss: 0.3020 - accuracy: 0.8892 - val_loss: 0.3149 - val_accuracy: 0.8880\n",
      "Epoch 23/50\n",
      "1719/1719 [==============================] - 6s 3ms/step - loss: 0.2976 - accuracy: 0.8901 - val_loss: 0.3195 - val_accuracy: 0.8892\n",
      "Epoch 24/50\n",
      "1719/1719 [==============================] - 6s 3ms/step - loss: 0.2961 - accuracy: 0.8898 - val_loss: 0.3173 - val_accuracy: 0.8918\n",
      "Epoch 25/50\n",
      "1719/1719 [==============================] - 6s 3ms/step - loss: 0.2921 - accuracy: 0.8926 - val_loss: 0.3003 - val_accuracy: 0.8900\n",
      "Epoch 26/50\n",
      "1719/1719 [==============================] - 6s 3ms/step - loss: 0.2898 - accuracy: 0.8940 - val_loss: 0.3004 - val_accuracy: 0.8922\n",
      "Epoch 27/50\n",
      "1719/1719 [==============================] - 6s 3ms/step - loss: 0.2883 - accuracy: 0.8936 - val_loss: 0.3005 - val_accuracy: 0.8940\n",
      "Epoch 28/50\n",
      "1719/1719 [==============================] - 5s 3ms/step - loss: 0.2839 - accuracy: 0.8950 - val_loss: 0.3124 - val_accuracy: 0.8842\n",
      "Epoch 29/50\n",
      "1719/1719 [==============================] - 6s 3ms/step - loss: 0.2832 - accuracy: 0.8945 - val_loss: 0.3039 - val_accuracy: 0.8912\n",
      "Epoch 30/50\n",
      "1719/1719 [==============================] - 6s 3ms/step - loss: 0.2827 - accuracy: 0.8953 - val_loss: 0.3017 - val_accuracy: 0.8954\n"
     ]
    },
    {
     "data": {
      "text/plain": [
       "<AxesSubplot:>"
      ]
     },
     "execution_count": 6,
     "metadata": {},
     "output_type": "execute_result"
    },
    {
     "data": {
      "image/png": "[encoded data removed]",
      "text/plain": [
       "<Figure size 432x288 with 1 Axes>"
      ]
     },
     "metadata": {
      "needs_background": "light"
     },
     "output_type": "display_data"
    }
   ],
   "source": [
    "model = keras.models.Sequential([\n",
    "    keras.layers.Flatten(input_shape=X_train_full.shape[1:]),\n",
    "    keras.layers.Dense(100, activation='selu'),\n",
    "    keras.layers.Dropout(0.2),\n",
    "    keras.layers.Dense(100, activation='selu'),\n",
    "    keras.layers.Dropout(0.2),\n",
    "    keras.layers.Dense(100, activation='selu'),\n",
    "    keras.layers.Dropout(0.2),\n",
    "    keras.layers.Dense(10, activation='softmax'),\n",
    "])\n",
    "\n",
    "callbacks = [\n",
    "    keras.callbacks.EarlyStopping(\n",
    "        patience=10,\n",
    "        restore_best_weights=True,\n",
    "    ),\n",
    "]\n",
    "\n",
    "model.compile(\n",
    "    loss=\"sparse_categorical_crossentropy\",\n",
    "    optimizer=\"adam\",\n",
    "    metrics=[\"accuracy\"],\n",
    ")\n",
    "\n",
    "history = model.fit(\n",
    "    X_train,\n",
    "    y_train,\n",
    "    epochs=50,\n",
    "    validation_data=(X_valid, y_valid),\n",
    "    callbacks=callbacks,\n",
    ")\n",
    "\n",
    "history_df = pd.DataFrame(history.history)\n",
    "history_df.loc[:, ['loss', 'val_loss', 'accuracy', 'val_accuracy']].plot(grid=True, ylim=(0.0, 1.0))"
   ]
  },
  {
   "cell_type": "code",
   "execution_count": 7,
   "metadata": {},
   "outputs": [
    {
     "name": "stdout",
     "output_type": "stream",
     "text": [
      "Epoch 1/50\n",
      "1719/1719 [==============================] - 664s 386ms/step - loss: 0.5459 - accuracy: 0.7983 - val_loss: 0.3827 - val_accuracy: 0.8644\n",
      "Epoch 2/50\n",
      "1719/1719 [==============================] - 665s 387ms/step - loss: 0.3347 - accuracy: 0.8779 - val_loss: 0.3364 - val_accuracy: 0.8768\n",
      "Epoch 3/50\n",
      "1719/1719 [==============================] - 664s 386ms/step - loss: 0.2892 - accuracy: 0.8931 - val_loss: 0.2664 - val_accuracy: 0.8962\n",
      "Epoch 4/50\n",
      "1719/1719 [==============================] - 686s 399ms/step - loss: 0.2601 - accuracy: 0.9043 - val_loss: 0.2637 - val_accuracy: 0.9042\n",
      "Epoch 5/50\n",
      "1719/1719 [==============================] - 704s 409ms/step - loss: 0.2376 - accuracy: 0.9120 - val_loss: 0.2605 - val_accuracy: 0.9044\n",
      "Epoch 6/50\n",
      "1719/1719 [==============================] - 709s 412ms/step - loss: 0.2175 - accuracy: 0.9194 - val_loss: 0.2507 - val_accuracy: 0.9110\n",
      "Epoch 7/50\n",
      "1719/1719 [==============================] - 734s 427ms/step - loss: 0.2010 - accuracy: 0.9264 - val_loss: 0.2370 - val_accuracy: 0.9122\n",
      "Epoch 8/50\n",
      "1719/1719 [==============================] - 652s 379ms/step - loss: 0.1863 - accuracy: 0.9320 - val_loss: 0.2523 - val_accuracy: 0.9108\n",
      "Epoch 9/50\n",
      "1719/1719 [==============================] - 652s 379ms/step - loss: 0.1718 - accuracy: 0.9361 - val_loss: 0.2382 - val_accuracy: 0.9224\n",
      "Epoch 10/50\n",
      "1719/1719 [==============================] - 608s 353ms/step - loss: 0.1613 - accuracy: 0.9402 - val_loss: 0.2426 - val_accuracy: 0.9208\n",
      "Epoch 11/50\n",
      "1719/1719 [==============================] - 592s 345ms/step - loss: 0.1478 - accuracy: 0.9453 - val_loss: 0.2755 - val_accuracy: 0.9104\n",
      "Epoch 12/50\n",
      "1719/1719 [==============================] - 650s 378ms/step - loss: 0.1392 - accuracy: 0.9477 - val_loss: 0.2696 - val_accuracy: 0.9186\n",
      "Epoch 13/50\n",
      "1719/1719 [==============================] - 677s 394ms/step - loss: 0.1281 - accuracy: 0.9523 - val_loss: 0.2741 - val_accuracy: 0.9164\n",
      "Epoch 14/50\n",
      "1719/1719 [==============================] - 680s 396ms/step - loss: 0.1213 - accuracy: 0.9551 - val_loss: 0.3120 - val_accuracy: 0.9102\n",
      "Epoch 15/50\n",
      "1719/1719 [==============================] - 672s 391ms/step - loss: 0.1112 - accuracy: 0.9591 - val_loss: 0.3019 - val_accuracy: 0.9094\n",
      "Epoch 16/50\n",
      "1719/1719 [==============================] - 701s 408ms/step - loss: 0.1008 - accuracy: 0.9629 - val_loss: 0.2958 - val_accuracy: 0.9198\n",
      "Epoch 17/50\n",
      "1719/1719 [==============================] - 684s 398ms/step - loss: 0.0945 - accuracy: 0.9653 - val_loss: 0.3276 - val_accuracy: 0.9130\n"
     ]
    },
    {
     "data": {
      "text/plain": [
       "<AxesSubplot:>"
      ]
     },
     "execution_count": 7,
     "metadata": {},
     "output_type": "execute_result"
    },
    {
     "data": {
      "image/png": "[encoded data removed]",
      "text/plain": [
       "<Figure size 432x288 with 1 Axes>"
      ]
     },
     "metadata": {
      "needs_background": "light"
     },
     "output_type": "display_data"
    }
   ],
   "source": [
    "cnn_model = keras.models.Sequential([\n",
    "    keras.layers.Conv2D(96, 5, activation='relu', padding='valid', input_shape=[28, 28, 1]),\n",
    "    keras.layers.MaxPooling2D(6, strides=2),\n",
    "    keras.layers.Conv2D(256, 3, activation='relu', padding='same'),\n",
    "    keras.layers.MaxPooling2D(2, strides=2),\n",
    "    keras.layers.Conv2D(384, 3, activation='relu', padding='same'),\n",
    "    keras.layers.Conv2D(384, 3, activation='relu', padding='same'),\n",
    "    keras.layers.Conv2D(256, 3, activation='relu', padding='same'),\n",
    "    keras.layers.MaxPooling2D(2, strides=2),\n",
    "    keras.layers.Flatten(),\n",
    "    keras.layers.Dense(64, activation='relu'),\n",
    "    keras.layers.Dense(64, activation='relu'),\n",
    "    keras.layers.Dense(64, activation='relu'),\n",
    "    keras.layers.Dense(10, activation='softmax'),\n",
    "])\n",
    "\n",
    "callbacks = [\n",
    "    keras.callbacks.EarlyStopping(\n",
    "        patience=10,\n",
    "        restore_best_weights=True,\n",
    "    ),\n",
    "]\n",
    "\n",
    "cnn_model.compile(\n",
    "    loss=\"sparse_categorical_crossentropy\",\n",
    "    optimizer=\"adam\",\n",
    "    metrics=[\"accuracy\"],\n",
    ")\n",
    "\n",
    "history = cnn_model.fit(\n",
    "    X_train,\n",
    "    y_train,\n",
    "    epochs=50,\n",
    "    validation_data=(X_valid, y_valid),\n",
    "    callbacks=callbacks,\n",
    ")\n",
    "\n",
    "history_df = pd.DataFrame(history.history)\n",
    "history_df.loc[:, ['loss', 'val_loss', 'accuracy', 'val_accuracy']].plot(grid=True, ylim=(0.0, 1.0))"
   ]
  },
  {
   "cell_type": "code",
   "execution_count": 7,
   "metadata": {},
   "outputs": [
    {
     "name": "stderr",
     "output_type": "stream",
     "text": [
      "2022-03-09 14:10:55.970580: W tensorflow/core/framework/cpu_allocator_impl.cc:82] Allocation of 172480000 exceeds 10% of free system memory.\n"
     ]
    },
    {
     "name": "stdout",
     "output_type": "stream",
     "text": [
      "Epoch 1/50\n",
      "WARNING:tensorflow:Gradients do not exist for variables ['residual_unit_12/conv2d_30/kernel:0', 'residual_unit_16/conv2d_39/kernel:0', 'residual_unit_22/conv2d_52/kernel:0'] when minimizing the loss. If you're using `model.compile()`, did you forget to provide a `loss`argument?\n",
      "WARNING:tensorflow:Gradients do not exist for variables ['residual_unit_12/conv2d_30/kernel:0', 'residual_unit_16/conv2d_39/kernel:0', 'residual_unit_22/conv2d_52/kernel:0'] when minimizing the loss. If you're using `model.compile()`, did you forget to provide a `loss`argument?\n"
     ]
    },
    {
     "name": "stderr",
     "output_type": "stream",
     "text": [
      "2022-03-09 14:11:02.349872: W tensorflow/core/framework/cpu_allocator_impl.cc:82] Allocation of 22127616 exceeds 10% of free system memory.\n",
      "2022-03-09 14:11:02.349910: W tensorflow/core/framework/cpu_allocator_impl.cc:82] Allocation of 22127616 exceeds 10% of free system memory.\n",
      "2022-03-09 14:11:02.381686: W tensorflow/core/framework/cpu_allocator_impl.cc:82] Allocation of 22127616 exceeds 10% of free system memory.\n",
      "2022-03-09 14:11:02.381895: W tensorflow/core/framework/cpu_allocator_impl.cc:82] Allocation of 22127616 exceeds 10% of free system memory.\n"
     ]
    },
    {
     "name": "stdout",
     "output_type": "stream",
     "text": [
      "1719/1719 [==============================] - 4439s 3s/step - loss: 0.4689 - accuracy: 0.8364 - val_loss: 0.3199 - val_accuracy: 0.8868\n",
      "Epoch 2/50\n",
      "1719/1719 [==============================] - 4116s 2s/step - loss: 0.3201 - accuracy: 0.8858 - val_loss: 0.2665 - val_accuracy: 0.9072\n",
      "Epoch 3/50\n",
      "1719/1719 [==============================] - 4607s 3s/step - loss: 0.2776 - accuracy: 0.9010 - val_loss: 0.2609 - val_accuracy: 0.9046\n",
      "Epoch 4/50\n",
      "1719/1719 [==============================] - 4079s 2s/step - loss: 0.2433 - accuracy: 0.9129 - val_loss: 0.2318 - val_accuracy: 0.9144\n",
      "Epoch 5/50\n",
      "1719/1719 [==============================] - 4122s 2s/step - loss: 0.2348 - accuracy: 0.9174 - val_loss: 0.2253 - val_accuracy: 0.9148\n",
      "Epoch 6/50\n",
      "1719/1719 [==============================] - 4726s 3s/step - loss: 0.1920 - accuracy: 0.9304 - val_loss: 0.2196 - val_accuracy: 0.9170\n",
      "Epoch 7/50\n",
      "1719/1719 [==============================] - 4965s 3s/step - loss: 0.1750 - accuracy: 0.9370 - val_loss: 0.2350 - val_accuracy: 0.9140\n",
      "Epoch 8/50\n",
      "1719/1719 [==============================] - 4937s 3s/step - loss: 0.1535 - accuracy: 0.9435 - val_loss: 0.1862 - val_accuracy: 0.9290\n",
      "Epoch 9/50\n",
      "1719/1719 [==============================] - 4824s 3s/step - loss: 0.1312 - accuracy: 0.9514 - val_loss: 0.2061 - val_accuracy: 0.9276\n",
      "Epoch 10/50\n",
      "1719/1719 [==============================] - 5154s 3s/step - loss: 0.1218 - accuracy: 0.9575 - val_loss: 3.6734 - val_accuracy: 0.8258\n",
      "Epoch 11/50\n",
      "1719/1719 [==============================] - 3952s 2s/step - loss: 0.1023 - accuracy: 0.9617 - val_loss: 0.2194 - val_accuracy: 0.9284\n",
      "Epoch 12/50\n",
      "1719/1719 [==============================] - 3856s 2s/step - loss: 0.0878 - accuracy: 0.9676 - val_loss: 0.2589 - val_accuracy: 0.9228\n",
      "Epoch 13/50\n",
      "1719/1719 [==============================] - 3833s 2s/step - loss: 0.0690 - accuracy: 0.9738 - val_loss: 0.2396 - val_accuracy: 0.9326\n",
      "Epoch 14/50\n",
      "1719/1719 [==============================] - 3834s 2s/step - loss: 0.0619 - accuracy: 0.9766 - val_loss: 0.2584 - val_accuracy: 0.9336\n",
      "Epoch 15/50\n",
      "1719/1719 [==============================] - 3985s 2s/step - loss: 0.0533 - accuracy: 0.9797 - val_loss: 0.2810 - val_accuracy: 0.9276\n",
      "Epoch 16/50\n",
      "1719/1719 [==============================] - 4000s 2s/step - loss: 0.0437 - accuracy: 0.9837 - val_loss: 0.2726 - val_accuracy: 0.9314\n",
      "Epoch 17/50\n",
      "1719/1719 [==============================] - 3829s 2s/step - loss: 0.0412 - accuracy: 0.9847 - val_loss: 0.3539 - val_accuracy: 0.9224\n",
      "Epoch 18/50\n",
      "1719/1719 [==============================] - 3930s 2s/step - loss: 0.0382 - accuracy: 0.9860 - val_loss: 0.2691 - val_accuracy: 0.9318\n"
     ]
    },
    {
     "data": {
      "text/plain": [
       "<AxesSubplot:>"
      ]
     },
     "execution_count": 7,
     "metadata": {},
     "output_type": "execute_result"
    },
    {
     "data": {
      "image/png": "[encoded data removed]",
      "text/plain": [
       "<Figure size 432x288 with 1 Axes>"
      ]
     },
     "metadata": {
      "needs_background": "light"
     },
     "output_type": "display_data"
    }
   ],
   "source": [
    "class ResidualUnit(keras.layers.Layer):\n",
    "    def __init__(self, filters, strides=1, activation='relu', **kwargs):\n",
    "        super().__init__(**kwargs)\n",
    "        self.activation = keras.activations.get(activation)\n",
    "        self.main_layers = [\n",
    "            keras.layers.Conv2D(filters, 3, strides=strides, padding='same', use_bias=False),\n",
    "            keras.layers.BatchNormalization(),\n",
    "            self.activation,\n",
    "            keras.layers.Conv2D(filters, 3, strides=1, padding='same', use_bias=False),\n",
    "            keras.layers.BatchNormalization(),\n",
    "        ]\n",
    "        self.skip_layers = []\n",
    "        if strides > 1:\n",
    "            self.skip_layers = [\n",
    "                keras.layers.Conv2D(filters, 1, strides=strides, padding='same', use_bias=False),\n",
    "                keras.layers.BatchNormalization(),\n",
    "            ]\n",
    "\n",
    "    def call(self, inputs):\n",
    "        Z = inputs\n",
    "        for layer in self.main_layers:\n",
    "            Z = layer(Z)\n",
    "        skip_Z = inputs\n",
    "        for layer in self.skip_layers:\n",
    "            skip_Z = layer(Z)\n",
    "        return self.activation(Z + skip_Z)\n",
    "\n",
    "model = keras.models.Sequential()\n",
    "model.add(keras.layers.Conv2D(64, 5, strides=1, input_shape=[28, 28, 1], padding='same', use_bias=False))\n",
    "model.add(keras.layers.BatchNormalization())\n",
    "model.add(keras.layers.Activation('relu'))\n",
    "model.add(keras.layers.MaxPooling2D(pool_size=3, strides=2, padding='same'))\n",
    "prev_filters = 64\n",
    "for filters in [64] * 3 + [128] * 4 + [256] * 6 + [512] * 3:\n",
    "    strides = 1 if filters == prev_filters else 2\n",
    "    model.add(ResidualUnit(filters, strides=strides))\n",
    "    prev_filters = filters\n",
    "model.add(keras.layers.GlobalAvgPool2D())\n",
    "model.add(keras.layers.Flatten())\n",
    "model.add(keras.layers.Dense(10, activation='softmax'))\n",
    "\n",
    "\n",
    "callbacks = [\n",
    "    keras.callbacks.EarlyStopping(\n",
    "        patience=10,\n",
    "        restore_best_weights=True,\n",
    "    ),\n",
    "]\n",
    "\n",
    "model.compile(\n",
    "    loss=\"sparse_categorical_crossentropy\",\n",
    "    optimizer=\"adam\",\n",
    "    metrics=[\"accuracy\"],\n",
    ")\n",
    "\n",
    "history = model.fit(\n",
    "    X_train,\n",
    "    y_train,\n",
    "    epochs=50,\n",
    "    validation_data=(X_valid, y_valid),\n",
    "    callbacks=callbacks,\n",
    ")\n",
    "\n",
    "history_df = pd.DataFrame(history.history)\n",
    "history_df.loc[:, ['loss', 'val_loss', 'accuracy', 'val_accuracy']].plot(grid=True, ylim=(0.0, 1.0))"
   ]
  },
  {
   "cell_type": "code",
   "execution_count": 8,
   "metadata": {},
   "outputs": [
    {
     "name": "stderr",
     "output_type": "stream",
     "text": [
      "/tmp/ipykernel_722334/1505965242.py:25: DeprecationWarning: KerasClassifier is deprecated, use Sci-Keras (https://github.com/adriangb/scikeras) instead. See https://www.adriangb.com/scikeras/stable/migration.html for help migrating.\n",
      "  keras.wrappers.scikit_learn.KerasClassifier(build_model),\n"
     ]
    },
    {
     "name": "stdout",
     "output_type": "stream",
     "text": [
      "Epoch 1/100\n",
      "1146/1146 [==============================] - 4s 3ms/step - loss: 0.6631 - accuracy: 0.7652 - val_loss: 0.4446 - val_accuracy: 0.8462\n",
      "Epoch 2/100\n",
      "1146/1146 [==============================] - 3s 3ms/step - loss: 0.4686 - accuracy: 0.8331 - val_loss: 0.3994 - val_accuracy: 0.8568\n",
      "Epoch 3/100\n",
      "1146/1146 [==============================] - 4s 3ms/step - loss: 0.4299 - accuracy: 0.8429 - val_loss: 0.3706 - val_accuracy: 0.8662\n",
      "Epoch 4/100\n",
      "1146/1146 [==============================] - 4s 3ms/step - loss: 0.3975 - accuracy: 0.8568 - val_loss: 0.3668 - val_accuracy: 0.8680\n",
      "Epoch 5/100\n",
      "1146/1146 [==============================] - 4s 3ms/step - loss: 0.3827 - accuracy: 0.8612 - val_loss: 0.3450 - val_accuracy: 0.8794\n",
      "Epoch 6/100\n",
      "1146/1146 [==============================] - 4s 3ms/step - loss: 0.3712 - accuracy: 0.8636 - val_loss: 0.3378 - val_accuracy: 0.8790\n",
      "Epoch 7/100\n",
      "1146/1146 [==============================] - 4s 4ms/step - loss: 0.3582 - accuracy: 0.8687 - val_loss: 0.3306 - val_accuracy: 0.8800\n",
      "Epoch 8/100\n",
      "1146/1146 [==============================] - 4s 3ms/step - loss: 0.3502 - accuracy: 0.8721 - val_loss: 0.3413 - val_accuracy: 0.8768\n",
      "Epoch 9/100\n",
      "1146/1146 [==============================] - 4s 3ms/step - loss: 0.3415 - accuracy: 0.8747 - val_loss: 0.3307 - val_accuracy: 0.8834\n",
      "Epoch 10/100\n",
      "1146/1146 [==============================] - 4s 3ms/step - loss: 0.3310 - accuracy: 0.8786 - val_loss: 0.3411 - val_accuracy: 0.8774\n",
      "Epoch 11/100\n",
      "1146/1146 [==============================] - 4s 4ms/step - loss: 0.3220 - accuracy: 0.8814 - val_loss: 0.3256 - val_accuracy: 0.8802\n",
      "Epoch 12/100\n",
      "1146/1146 [==============================] - 4s 4ms/step - loss: 0.3233 - accuracy: 0.8808 - val_loss: 0.3276 - val_accuracy: 0.8838\n",
      "Epoch 13/100\n",
      "1146/1146 [==============================] - 4s 4ms/step - loss: 0.3174 - accuracy: 0.8826 - val_loss: 0.3523 - val_accuracy: 0.8742\n",
      "Epoch 14/100\n",
      "1146/1146 [==============================] - 4s 4ms/step - loss: 0.3102 - accuracy: 0.8860 - val_loss: 0.3382 - val_accuracy: 0.8798\n",
      "Epoch 15/100\n",
      "1146/1146 [==============================] - 5s 4ms/step - loss: 0.3056 - accuracy: 0.8860 - val_loss: 0.3254 - val_accuracy: 0.8854\n",
      "Epoch 16/100\n",
      "1146/1146 [==============================] - 5s 4ms/step - loss: 0.2974 - accuracy: 0.8894 - val_loss: 0.3216 - val_accuracy: 0.8848\n",
      "Epoch 17/100\n",
      "1146/1146 [==============================] - 4s 4ms/step - loss: 0.2961 - accuracy: 0.8914 - val_loss: 0.3287 - val_accuracy: 0.8852\n",
      "Epoch 18/100\n",
      "1146/1146 [==============================] - 4s 4ms/step - loss: 0.2936 - accuracy: 0.8913 - val_loss: 0.3242 - val_accuracy: 0.8864\n",
      "Epoch 19/100\n",
      "1146/1146 [==============================] - 5s 4ms/step - loss: 0.2893 - accuracy: 0.8922 - val_loss: 0.3300 - val_accuracy: 0.8876\n",
      "Epoch 20/100\n",
      "1146/1146 [==============================] - 4s 4ms/step - loss: 0.2870 - accuracy: 0.8919 - val_loss: 0.3407 - val_accuracy: 0.8808\n",
      "Epoch 21/100\n",
      "1146/1146 [==============================] - 4s 4ms/step - loss: 0.2819 - accuracy: 0.8940 - val_loss: 0.3265 - val_accuracy: 0.8942\n",
      "Epoch 22/100\n",
      "1146/1146 [==============================] - 5s 4ms/step - loss: 0.2799 - accuracy: 0.8954 - val_loss: 0.3313 - val_accuracy: 0.8870\n",
      "Epoch 23/100\n",
      "1146/1146 [==============================] - 4s 4ms/step - loss: 0.2760 - accuracy: 0.8948 - val_loss: 0.3195 - val_accuracy: 0.8922\n",
      "Epoch 24/100\n",
      "1146/1146 [==============================] - 4s 4ms/step - loss: 0.2718 - accuracy: 0.8966 - val_loss: 0.3325 - val_accuracy: 0.8858\n",
      "Epoch 25/100\n",
      "1146/1146 [==============================] - 5s 4ms/step - loss: 0.2670 - accuracy: 0.9000 - val_loss: 0.3250 - val_accuracy: 0.8898\n",
      "Epoch 26/100\n",
      "1146/1146 [==============================] - 5s 4ms/step - loss: 0.2653 - accuracy: 0.9014 - val_loss: 0.3383 - val_accuracy: 0.8840\n",
      "Epoch 27/100\n",
      "1146/1146 [==============================] - 4s 4ms/step - loss: 0.2659 - accuracy: 0.8992 - val_loss: 0.3458 - val_accuracy: 0.8826\n",
      "Epoch 28/100\n",
      "1146/1146 [==============================] - 4s 4ms/step - loss: 0.2640 - accuracy: 0.9004 - val_loss: 0.3277 - val_accuracy: 0.8910\n",
      "Epoch 29/100\n",
      "1146/1146 [==============================] - 5s 4ms/step - loss: 0.2637 - accuracy: 0.9020 - val_loss: 0.3292 - val_accuracy: 0.8876\n",
      "Epoch 30/100\n",
      "1146/1146 [==============================] - 5s 4ms/step - loss: 0.2610 - accuracy: 0.9027 - val_loss: 0.3265 - val_accuracy: 0.8906\n",
      "Epoch 31/100\n",
      "1146/1146 [==============================] - 4s 4ms/step - loss: 0.2566 - accuracy: 0.9030 - val_loss: 0.3365 - val_accuracy: 0.8866\n",
      "Epoch 32/100\n",
      "1146/1146 [==============================] - 5s 4ms/step - loss: 0.2547 - accuracy: 0.9040 - val_loss: 0.3267 - val_accuracy: 0.8948\n",
      "Epoch 33/100\n",
      "1146/1146 [==============================] - 5s 4ms/step - loss: 0.2536 - accuracy: 0.9045 - val_loss: 0.3426 - val_accuracy: 0.8906\n",
      "573/573 [==============================] - 2s 3ms/step - loss: 0.3207 - accuracy: 0.8854\n",
      "Epoch 1/100\n",
      "1146/1146 [==============================] - 5s 4ms/step - loss: 0.6868 - accuracy: 0.7561 - val_loss: 0.4330 - val_accuracy: 0.8472\n",
      "Epoch 2/100\n",
      "1146/1146 [==============================] - 4s 4ms/step - loss: 0.4807 - accuracy: 0.8244 - val_loss: 0.3959 - val_accuracy: 0.8582\n",
      "Epoch 3/100\n",
      "1146/1146 [==============================] - 5s 4ms/step - loss: 0.4347 - accuracy: 0.8404 - val_loss: 0.3773 - val_accuracy: 0.8666\n",
      "Epoch 4/100\n",
      "1146/1146 [==============================] - 4s 4ms/step - loss: 0.4110 - accuracy: 0.8513 - val_loss: 0.3651 - val_accuracy: 0.8696\n",
      "Epoch 5/100\n",
      "1146/1146 [==============================] - 5s 4ms/step - loss: 0.3919 - accuracy: 0.8566 - val_loss: 0.3755 - val_accuracy: 0.8620\n",
      "Epoch 6/100\n",
      "1146/1146 [==============================] - 5s 4ms/step - loss: 0.3790 - accuracy: 0.8599 - val_loss: 0.3529 - val_accuracy: 0.8736\n",
      "Epoch 7/100\n",
      "1146/1146 [==============================] - 4s 4ms/step - loss: 0.3704 - accuracy: 0.8648 - val_loss: 0.3341 - val_accuracy: 0.8780\n",
      "Epoch 8/100\n",
      "1146/1146 [==============================] - 5s 4ms/step - loss: 0.3550 - accuracy: 0.8671 - val_loss: 0.3386 - val_accuracy: 0.8804\n",
      "Epoch 9/100\n",
      "1146/1146 [==============================] - 5s 4ms/step - loss: 0.3473 - accuracy: 0.8709 - val_loss: 0.3593 - val_accuracy: 0.8738\n",
      "Epoch 10/100\n",
      "1146/1146 [==============================] - 4s 4ms/step - loss: 0.3410 - accuracy: 0.8739 - val_loss: 0.3368 - val_accuracy: 0.8790\n",
      "Epoch 11/100\n",
      "1146/1146 [==============================] - 5s 4ms/step - loss: 0.3325 - accuracy: 0.8770 - val_loss: 0.3321 - val_accuracy: 0.8856\n",
      "Epoch 12/100\n",
      "1146/1146 [==============================] - 5s 4ms/step - loss: 0.3291 - accuracy: 0.8769 - val_loss: 0.3592 - val_accuracy: 0.8684\n",
      "Epoch 13/100\n",
      "1146/1146 [==============================] - 5s 4ms/step - loss: 0.3218 - accuracy: 0.8801 - val_loss: 0.3291 - val_accuracy: 0.8826\n",
      "Epoch 14/100\n",
      "1146/1146 [==============================] - 5s 4ms/step - loss: 0.3172 - accuracy: 0.8805 - val_loss: 0.3327 - val_accuracy: 0.8820\n",
      "Epoch 15/100\n",
      "1146/1146 [==============================] - 5s 4ms/step - loss: 0.3141 - accuracy: 0.8828 - val_loss: 0.3138 - val_accuracy: 0.8886\n",
      "Epoch 16/100\n",
      "1146/1146 [==============================] - 4s 4ms/step - loss: 0.3061 - accuracy: 0.8835 - val_loss: 0.3457 - val_accuracy: 0.8764\n",
      "Epoch 17/100\n",
      "1146/1146 [==============================] - 4s 4ms/step - loss: 0.3031 - accuracy: 0.8866 - val_loss: 0.3387 - val_accuracy: 0.8844\n",
      "Epoch 18/100\n",
      "1146/1146 [==============================] - 5s 4ms/step - loss: 0.3015 - accuracy: 0.8884 - val_loss: 0.3429 - val_accuracy: 0.8816\n",
      "Epoch 19/100\n",
      "1146/1146 [==============================] - 5s 4ms/step - loss: 0.2989 - accuracy: 0.8872 - val_loss: 0.3290 - val_accuracy: 0.8816\n",
      "Epoch 20/100\n",
      "1146/1146 [==============================] - 5s 4ms/step - loss: 0.2980 - accuracy: 0.8870 - val_loss: 0.3186 - val_accuracy: 0.8876\n",
      "Epoch 21/100\n",
      "1146/1146 [==============================] - 4s 4ms/step - loss: 0.2933 - accuracy: 0.8888 - val_loss: 0.3273 - val_accuracy: 0.8900\n",
      "Epoch 22/100\n",
      "1146/1146 [==============================] - 5s 4ms/step - loss: 0.2929 - accuracy: 0.8901 - val_loss: 0.3248 - val_accuracy: 0.8864\n",
      "Epoch 23/100\n",
      "1146/1146 [==============================] - 5s 4ms/step - loss: 0.2853 - accuracy: 0.8934 - val_loss: 0.3347 - val_accuracy: 0.8812\n",
      "Epoch 24/100\n",
      "1146/1146 [==============================] - 4s 4ms/step - loss: 0.2813 - accuracy: 0.8935 - val_loss: 0.3331 - val_accuracy: 0.8866\n",
      "Epoch 25/100\n",
      "1146/1146 [==============================] - 5s 4ms/step - loss: 0.2813 - accuracy: 0.8931 - val_loss: 0.3189 - val_accuracy: 0.8884\n",
      "573/573 [==============================] - 2s 3ms/step - loss: 0.3238 - accuracy: 0.8873\n",
      "Epoch 1/100\n",
      "1146/1146 [==============================] - 5s 4ms/step - loss: 0.6698 - accuracy: 0.7634 - val_loss: 0.4297 - val_accuracy: 0.8456\n",
      "Epoch 2/100\n",
      "1146/1146 [==============================] - 5s 4ms/step - loss: 0.4705 - accuracy: 0.8296 - val_loss: 0.3912 - val_accuracy: 0.8616\n",
      "Epoch 3/100\n",
      "1146/1146 [==============================] - 5s 4ms/step - loss: 0.4307 - accuracy: 0.8453 - val_loss: 0.3806 - val_accuracy: 0.8584\n",
      "Epoch 4/100\n",
      "1146/1146 [==============================] - 5s 4ms/step - loss: 0.4024 - accuracy: 0.8530 - val_loss: 0.3518 - val_accuracy: 0.8736\n",
      "Epoch 5/100\n",
      "1146/1146 [==============================] - 4s 4ms/step - loss: 0.3850 - accuracy: 0.8600 - val_loss: 0.3628 - val_accuracy: 0.8646\n",
      "Epoch 6/100\n",
      "1146/1146 [==============================] - 5s 4ms/step - loss: 0.3753 - accuracy: 0.8624 - val_loss: 0.3544 - val_accuracy: 0.8676\n",
      "Epoch 7/100\n",
      "1146/1146 [==============================] - 4s 4ms/step - loss: 0.3615 - accuracy: 0.8680 - val_loss: 0.3317 - val_accuracy: 0.8840\n",
      "Epoch 8/100\n",
      "1146/1146 [==============================] - 4s 4ms/step - loss: 0.3522 - accuracy: 0.8711 - val_loss: 0.3365 - val_accuracy: 0.8812\n",
      "Epoch 9/100\n",
      "1146/1146 [==============================] - 5s 4ms/step - loss: 0.3444 - accuracy: 0.8716 - val_loss: 0.3444 - val_accuracy: 0.8734\n",
      "Epoch 10/100\n",
      "1146/1146 [==============================] - 5s 4ms/step - loss: 0.3343 - accuracy: 0.8778 - val_loss: 0.3307 - val_accuracy: 0.8796\n",
      "Epoch 11/100\n",
      "1146/1146 [==============================] - 5s 4ms/step - loss: 0.3296 - accuracy: 0.8782 - val_loss: 0.3274 - val_accuracy: 0.8798\n",
      "Epoch 12/100\n",
      "1146/1146 [==============================] - 4s 4ms/step - loss: 0.3198 - accuracy: 0.8810 - val_loss: 0.3223 - val_accuracy: 0.8870\n",
      "Epoch 13/100\n",
      "1146/1146 [==============================] - 5s 4ms/step - loss: 0.3164 - accuracy: 0.8829 - val_loss: 0.3146 - val_accuracy: 0.8862\n",
      "Epoch 14/100\n",
      "1146/1146 [==============================] - 5s 4ms/step - loss: 0.3073 - accuracy: 0.8839 - val_loss: 0.3302 - val_accuracy: 0.8796\n",
      "Epoch 15/100\n",
      "1146/1146 [==============================] - 5s 4ms/step - loss: 0.3072 - accuracy: 0.8860 - val_loss: 0.3153 - val_accuracy: 0.8870\n",
      "Epoch 16/100\n",
      "1146/1146 [==============================] - 5s 4ms/step - loss: 0.3034 - accuracy: 0.8871 - val_loss: 0.3293 - val_accuracy: 0.8852\n",
      "Epoch 17/100\n",
      "1146/1146 [==============================] - 4s 4ms/step - loss: 0.3006 - accuracy: 0.8874 - val_loss: 0.3365 - val_accuracy: 0.8786\n",
      "Epoch 18/100\n",
      "1146/1146 [==============================] - 5s 4ms/step - loss: 0.2915 - accuracy: 0.8903 - val_loss: 0.3261 - val_accuracy: 0.8862\n",
      "Epoch 19/100\n",
      "1146/1146 [==============================] - 5s 4ms/step - loss: 0.2921 - accuracy: 0.8907 - val_loss: 0.3122 - val_accuracy: 0.8894\n",
      "Epoch 20/100\n",
      "1146/1146 [==============================] - 5s 4ms/step - loss: 0.2873 - accuracy: 0.8918 - val_loss: 0.3385 - val_accuracy: 0.8832\n",
      "Epoch 21/100\n",
      "1146/1146 [==============================] - 5s 4ms/step - loss: 0.2844 - accuracy: 0.8931 - val_loss: 0.3123 - val_accuracy: 0.8936\n",
      "Epoch 22/100\n",
      "1146/1146 [==============================] - 4s 4ms/step - loss: 0.2835 - accuracy: 0.8941 - val_loss: 0.3190 - val_accuracy: 0.8850\n",
      "Epoch 23/100\n",
      "1146/1146 [==============================] - 5s 4ms/step - loss: 0.2782 - accuracy: 0.8958 - val_loss: 0.3286 - val_accuracy: 0.8850\n",
      "Epoch 24/100\n",
      "1146/1146 [==============================] - 4s 4ms/step - loss: 0.2769 - accuracy: 0.8953 - val_loss: 0.3098 - val_accuracy: 0.8916\n",
      "Epoch 25/100\n",
      "1146/1146 [==============================] - 5s 4ms/step - loss: 0.2726 - accuracy: 0.8997 - val_loss: 0.3141 - val_accuracy: 0.8940\n",
      "Epoch 26/100\n",
      "1146/1146 [==============================] - 5s 4ms/step - loss: 0.2720 - accuracy: 0.8985 - val_loss: 0.3255 - val_accuracy: 0.8886\n",
      "Epoch 27/100\n",
      "1146/1146 [==============================] - 5s 4ms/step - loss: 0.2698 - accuracy: 0.9004 - val_loss: 0.3183 - val_accuracy: 0.8880\n",
      "Epoch 28/100\n",
      "1146/1146 [==============================] - 5s 4ms/step - loss: 0.2629 - accuracy: 0.9020 - val_loss: 0.3336 - val_accuracy: 0.8874\n",
      "Epoch 29/100\n",
      "1146/1146 [==============================] - 5s 4ms/step - loss: 0.2630 - accuracy: 0.9004 - val_loss: 0.3105 - val_accuracy: 0.8912\n",
      "Epoch 30/100\n",
      "1146/1146 [==============================] - 5s 4ms/step - loss: 0.2609 - accuracy: 0.9011 - val_loss: 0.3094 - val_accuracy: 0.8918\n",
      "Epoch 31/100\n",
      "1146/1146 [==============================] - 5s 4ms/step - loss: 0.2606 - accuracy: 0.9015 - val_loss: 0.3139 - val_accuracy: 0.8922\n",
      "Epoch 32/100\n",
      "1146/1146 [==============================] - 5s 4ms/step - loss: 0.2587 - accuracy: 0.9049 - val_loss: 0.3222 - val_accuracy: 0.8880\n",
      "Epoch 33/100\n",
      "1146/1146 [==============================] - 5s 4ms/step - loss: 0.2515 - accuracy: 0.9058 - val_loss: 0.3286 - val_accuracy: 0.8906\n",
      "Epoch 34/100\n",
      "1146/1146 [==============================] - 5s 4ms/step - loss: 0.2540 - accuracy: 0.9040 - val_loss: 0.3196 - val_accuracy: 0.8948\n",
      "Epoch 35/100\n",
      "1146/1146 [==============================] - 5s 4ms/step - loss: 0.2549 - accuracy: 0.9037 - val_loss: 0.3505 - val_accuracy: 0.8854\n",
      "Epoch 36/100\n",
      "1146/1146 [==============================] - 5s 4ms/step - loss: 0.2477 - accuracy: 0.9066 - val_loss: 0.3217 - val_accuracy: 0.8946\n",
      "Epoch 37/100\n",
      "1146/1146 [==============================] - 5s 4ms/step - loss: 0.2446 - accuracy: 0.9077 - val_loss: 0.3207 - val_accuracy: 0.8918\n",
      "Epoch 38/100\n",
      "1146/1146 [==============================] - 5s 4ms/step - loss: 0.2448 - accuracy: 0.9090 - val_loss: 0.3163 - val_accuracy: 0.8934\n",
      "Epoch 39/100\n",
      "1146/1146 [==============================] - 5s 4ms/step - loss: 0.2433 - accuracy: 0.9065 - val_loss: 0.3288 - val_accuracy: 0.8888\n",
      "Epoch 40/100\n",
      "1146/1146 [==============================] - 5s 4ms/step - loss: 0.2438 - accuracy: 0.9102 - val_loss: 0.3402 - val_accuracy: 0.8904\n",
      "573/573 [==============================] - 2s 3ms/step - loss: 0.3183 - accuracy: 0.8885\n",
      "Epoch 1/100\n",
      "1719/1719 [==============================] - 8s 4ms/step - loss: 0.6159 - accuracy: 0.7803 - val_loss: 0.4569 - val_accuracy: 0.8390\n",
      "Epoch 2/100\n",
      "1719/1719 [==============================] - 7s 4ms/step - loss: 0.4484 - accuracy: 0.8378 - val_loss: 0.3769 - val_accuracy: 0.8642\n",
      "Epoch 3/100\n",
      "1719/1719 [==============================] - 7s 4ms/step - loss: 0.4173 - accuracy: 0.8486 - val_loss: 0.3625 - val_accuracy: 0.8670\n",
      "Epoch 4/100\n",
      "1719/1719 [==============================] - 7s 4ms/step - loss: 0.3899 - accuracy: 0.8564 - val_loss: 0.3517 - val_accuracy: 0.8718\n",
      "Epoch 5/100\n",
      "1719/1719 [==============================] - 7s 4ms/step - loss: 0.3752 - accuracy: 0.8609 - val_loss: 0.3392 - val_accuracy: 0.8786\n",
      "Epoch 6/100\n",
      "1719/1719 [==============================] - 7s 4ms/step - loss: 0.3623 - accuracy: 0.8670 - val_loss: 0.3494 - val_accuracy: 0.8724\n",
      "Epoch 7/100\n",
      "1719/1719 [==============================] - 7s 4ms/step - loss: 0.3533 - accuracy: 0.8682 - val_loss: 0.3196 - val_accuracy: 0.8834\n",
      "Epoch 8/100\n",
      "1719/1719 [==============================] - 7s 4ms/step - loss: 0.3457 - accuracy: 0.8723 - val_loss: 0.3259 - val_accuracy: 0.8794\n",
      "Epoch 9/100\n",
      "1719/1719 [==============================] - 7s 4ms/step - loss: 0.3379 - accuracy: 0.8744 - val_loss: 0.3215 - val_accuracy: 0.8830\n",
      "Epoch 10/100\n",
      "1719/1719 [==============================] - 7s 4ms/step - loss: 0.3301 - accuracy: 0.8778 - val_loss: 0.3308 - val_accuracy: 0.8760\n",
      "Epoch 11/100\n",
      "1719/1719 [==============================] - 7s 4ms/step - loss: 0.3244 - accuracy: 0.8802 - val_loss: 0.3227 - val_accuracy: 0.8858\n",
      "Epoch 12/100\n",
      "1719/1719 [==============================] - 7s 4ms/step - loss: 0.3181 - accuracy: 0.8809 - val_loss: 0.3210 - val_accuracy: 0.8820\n",
      "Epoch 13/100\n",
      "1719/1719 [==============================] - 7s 4ms/step - loss: 0.3179 - accuracy: 0.8824 - val_loss: 0.3198 - val_accuracy: 0.8836\n",
      "Epoch 14/100\n",
      "1719/1719 [==============================] - 7s 4ms/step - loss: 0.3136 - accuracy: 0.8841 - val_loss: 0.3101 - val_accuracy: 0.8886\n",
      "Epoch 15/100\n",
      "1719/1719 [==============================] - 7s 4ms/step - loss: 0.3076 - accuracy: 0.8856 - val_loss: 0.3141 - val_accuracy: 0.8884\n",
      "Epoch 16/100\n",
      "1719/1719 [==============================] - 7s 4ms/step - loss: 0.3043 - accuracy: 0.8857 - val_loss: 0.3238 - val_accuracy: 0.8856\n",
      "Epoch 17/100\n",
      "1719/1719 [==============================] - 7s 4ms/step - loss: 0.2991 - accuracy: 0.8887 - val_loss: 0.3089 - val_accuracy: 0.8920\n",
      "Epoch 18/100\n",
      "1719/1719 [==============================] - 7s 4ms/step - loss: 0.2955 - accuracy: 0.8904 - val_loss: 0.3110 - val_accuracy: 0.8896\n",
      "Epoch 19/100\n",
      "1719/1719 [==============================] - 7s 4ms/step - loss: 0.2926 - accuracy: 0.8899 - val_loss: 0.3015 - val_accuracy: 0.8892\n",
      "Epoch 20/100\n",
      "1719/1719 [==============================] - 7s 4ms/step - loss: 0.2911 - accuracy: 0.8912 - val_loss: 0.3105 - val_accuracy: 0.8882\n",
      "Epoch 21/100\n",
      "1719/1719 [==============================] - 7s 4ms/step - loss: 0.2890 - accuracy: 0.8913 - val_loss: 0.3105 - val_accuracy: 0.8878\n",
      "Epoch 22/100\n",
      "1719/1719 [==============================] - 7s 4ms/step - loss: 0.2864 - accuracy: 0.8933 - val_loss: 0.3214 - val_accuracy: 0.8870\n",
      "Epoch 23/100\n",
      "1719/1719 [==============================] - 7s 4ms/step - loss: 0.2841 - accuracy: 0.8944 - val_loss: 0.3160 - val_accuracy: 0.8866\n",
      "Epoch 24/100\n",
      "1719/1719 [==============================] - 7s 4ms/step - loss: 0.2835 - accuracy: 0.8942 - val_loss: 0.3041 - val_accuracy: 0.8918\n",
      "Epoch 25/100\n",
      "1719/1719 [==============================] - 7s 4ms/step - loss: 0.2840 - accuracy: 0.8943 - val_loss: 0.3026 - val_accuracy: 0.8950\n",
      "Epoch 26/100\n",
      "1719/1719 [==============================] - 7s 4ms/step - loss: 0.2771 - accuracy: 0.8964 - val_loss: 0.3053 - val_accuracy: 0.8934\n",
      "Epoch 27/100\n",
      "1719/1719 [==============================] - 7s 4ms/step - loss: 0.2765 - accuracy: 0.8961 - val_loss: 0.3003 - val_accuracy: 0.8960\n",
      "Epoch 28/100\n",
      "1719/1719 [==============================] - 7s 4ms/step - loss: 0.2737 - accuracy: 0.8970 - val_loss: 0.3055 - val_accuracy: 0.8878\n",
      "Epoch 29/100\n",
      "1719/1719 [==============================] - 7s 4ms/step - loss: 0.2700 - accuracy: 0.9001 - val_loss: 0.3204 - val_accuracy: 0.8886\n",
      "Epoch 30/100\n",
      "1719/1719 [==============================] - 7s 4ms/step - loss: 0.2707 - accuracy: 0.8985 - val_loss: 0.3130 - val_accuracy: 0.8944\n",
      "Epoch 31/100\n",
      "1719/1719 [==============================] - 8s 4ms/step - loss: 0.2702 - accuracy: 0.8988 - val_loss: 0.3085 - val_accuracy: 0.8904\n",
      "Epoch 32/100\n",
      "1719/1719 [==============================] - 7s 4ms/step - loss: 0.2678 - accuracy: 0.9001 - val_loss: 0.3032 - val_accuracy: 0.8934\n",
      "Epoch 33/100\n",
      "1719/1719 [==============================] - 7s 4ms/step - loss: 0.2642 - accuracy: 0.9003 - val_loss: 0.3107 - val_accuracy: 0.8898\n",
      "Epoch 34/100\n",
      "1719/1719 [==============================] - 7s 4ms/step - loss: 0.2655 - accuracy: 0.9002 - val_loss: 0.3160 - val_accuracy: 0.8900\n",
      "Epoch 35/100\n",
      "1719/1719 [==============================] - 9s 5ms/step - loss: 0.2619 - accuracy: 0.9013 - val_loss: 0.3126 - val_accuracy: 0.8906\n",
      "Epoch 36/100\n",
      "1719/1719 [==============================] - 8s 5ms/step - loss: 0.2616 - accuracy: 0.9019 - val_loss: 0.3231 - val_accuracy: 0.8886\n",
      "Epoch 37/100\n",
      "1719/1719 [==============================] - 6s 3ms/step - loss: 0.2587 - accuracy: 0.9017 - val_loss: 0.3215 - val_accuracy: 0.8886\n"
     ]
    },
    {
     "data": {
      "text/plain": [
       "RandomizedSearchCV(cv=3,\n",
       "                   estimator=<keras.wrappers.scikit_learn.KerasClassifier object at 0x7f87d01b2760>,\n",
       "                   n_iter=1,\n",
       "                   param_distributions={'n_hidden': [0, 1, 2, 3],\n",
       "                                        'n_neurons': array([ 1,  2,  3,  4,  5,  6,  7,  8,  9, 10, 11, 12, 13, 14, 15, 16, 17,\n",
       "       18, 19, 20, 21, 22, 23, 24, 25, 26, 27, 28, 29, 30, 31, 32, 33, 34,\n",
       "       35, 36, 37, 38, 39, 40, 41, 42, 43, 44, 45, 46, 47, 48, 49, 50, 51,\n",
       "       52, 53, 54, 55, 56, 57, 58, 59, 60, 61, 62, 63, 64, 65, 66, 67, 68,\n",
       "       69, 70, 71, 72, 73, 74, 75, 76, 77, 78, 79, 80, 81, 82, 83, 84, 85,\n",
       "       86, 87, 88, 89, 90, 91, 92, 93, 94, 95, 96, 97, 98, 99])})"
      ]
     },
     "execution_count": 8,
     "metadata": {},
     "output_type": "execute_result"
    }
   ],
   "source": [
    "import numpy as np\n",
    "from sklearn.model_selection import RandomizedSearchCV\n",
    "\n",
    "def build_model(n_hidden=1, n_neurons=30, input_shape=X_train_full.shape[1:]):\n",
    "    model = keras.models.Sequential()\n",
    "    model.add(keras.layers.InputLayer(input_shape=input_shape))\n",
    "    model.add(keras.layers.Flatten())\n",
    "    for layer in range(n_hidden):\n",
    "        model.add(keras.layers.Dense(n_neurons, activation='relu'))\n",
    "        model.add(keras.layers.Dropout(0.2))\n",
    "    model.add(keras.layers.Dense(10, activation='softmax'))\n",
    "    model.compile(\n",
    "        loss=\"sparse_categorical_crossentropy\",\n",
    "        optimizer=\"adam\",\n",
    "        metrics=[\"accuracy\"],\n",
    "    )\n",
    "    return model\n",
    "\n",
    "params = {\n",
    "    \"n_hidden\": [0, 1, 2, 3],\n",
    "    \"n_neurons\": np.arange(1, 100),\n",
    "}\n",
    "\n",
    "model_search_cv = RandomizedSearchCV(\n",
    "    keras.wrappers.scikit_learn.KerasClassifier(build_model),\n",
    "    params,\n",
    "    n_iter=1,\n",
    "    cv=3,\n",
    ")\n",
    "model_search_cv.fit(X_train, y_train, epochs=100, validation_data=(X_valid, y_valid), callbacks=callbacks)\n",
    "\n"
   ]
  },
  {
   "cell_type": "code",
   "execution_count": 9,
   "metadata": {},
   "outputs": [
    {
     "data": {
      "text/plain": [
       "{'n_neurons': 73, 'n_hidden': 2}"
      ]
     },
     "execution_count": 9,
     "metadata": {},
     "output_type": "execute_result"
    }
   ],
   "source": [
    "model_search_cv.best_params_"
   ]
  },
  {
   "cell_type": "code",
   "execution_count": 10,
   "metadata": {},
   "outputs": [
    {
     "data": {
      "text/plain": [
       "0.887072761853536"
      ]
     },
     "execution_count": 10,
     "metadata": {},
     "output_type": "execute_result"
    }
   ],
   "source": [
    "model_search_cv.best_score_"
   ]
  },
  {
   "cell_type": "code",
   "execution_count": null,
   "metadata": {},
   "outputs": [],
   "source": []
  }
 ],
 "metadata": {
  "interpreter": {
   "hash": "4c0736d048e0a50360e11e2a8529201742ba1aca677653f0cfe7080c59c01314"
  },
  "kernelspec": {
   "display_name": "Python 3.9.7 ('venv': venv)",
   "language": "python",
   "name": "python3"
  },
  "language_info": {
   "codemirror_mode": {
    "name": "ipython",
    "version": 3
   },
   "file_extension": ".py",
   "mimetype": "text/x-python",
   "name": "python",
   "nbconvert_exporter": "python",
   "pygments_lexer": "ipython3",
   "version": "3.9.7"
  },
  "orig_nbformat": 4
 },
 "nbformat": 4,
 "nbformat_minor": 2
}
