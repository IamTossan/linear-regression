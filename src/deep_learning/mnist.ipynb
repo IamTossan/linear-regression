{
 "cells": [
  {
   "cell_type": "code",
   "execution_count": 1,
   "metadata": {},
   "outputs": [
    {
     "name": "stderr",
     "output_type": "stream",
     "text": [
      "2022-03-06 19:26:03.783797: W tensorflow/stream_executor/platform/default/dso_loader.cc:64] Could not load dynamic library 'libcudart.so.11.0'; dlerror: libcudart.so.11.0: cannot open shared object file: No such file or directory\n",
      "2022-03-06 19:26:03.783868: I tensorflow/stream_executor/cuda/cudart_stub.cc:29] Ignore above cudart dlerror if you do not have a GPU set up on your machine.\n"
     ]
    }
   ],
   "source": [
    "import tensorflow as tf\n",
    "from tensorflow import keras\n",
    "import pandas as pd\n",
    "import matplotlib.pyplot as plt"
   ]
  },
  {
   "cell_type": "code",
   "execution_count": 2,
   "metadata": {},
   "outputs": [],
   "source": [
    "fashion_mnist = keras.datasets.fashion_mnist\n",
    "(X_train_full, y_train_full), (X_test, y_test) = fashion_mnist.load_data()"
   ]
  },
  {
   "cell_type": "code",
   "execution_count": 3,
   "metadata": {},
   "outputs": [
    {
     "data": {
      "text/plain": [
       "(60000, 28, 28)"
      ]
     },
     "execution_count": 3,
     "metadata": {},
     "output_type": "execute_result"
    }
   ],
   "source": [
    "X_train_full.shape"
   ]
  },
  {
   "cell_type": "code",
   "execution_count": 4,
   "metadata": {},
   "outputs": [],
   "source": [
    "X_valid, X_train = X_train_full[:5000] / 255.0, X_train_full[5000:] / 255.0\n",
    "y_valid, y_train = y_train_full[:5000], y_train_full[5000:]\n",
    "\n",
    "class_names = [\n",
    "    \"T-shirt/top\",\n",
    "    \"Trouser\",\n",
    "    \"Pullover\",\n",
    "    \"Dress\",\n",
    "    \"Coat\",\n",
    "    \"Sandal\",\n",
    "    \"Shirt\",\n",
    "    \"Sneaker\",\n",
    "    \"Bag\",\n",
    "    \"Ankle boot\",\n",
    "]"
   ]
  },
  {
   "cell_type": "code",
   "execution_count": 5,
   "metadata": {},
   "outputs": [
    {
     "data": {
      "text/plain": [
       "'Coat'"
      ]
     },
     "execution_count": 5,
     "metadata": {},
     "output_type": "execute_result"
    }
   ],
   "source": [
    "class_names[y_train[0]]"
   ]
  },
  {
   "cell_type": "code",
   "execution_count": 18,
   "metadata": {},
   "outputs": [
    {
     "name": "stdout",
     "output_type": "stream",
     "text": [
      "Epoch 1/50\n",
      "1719/1719 [==============================] - 6s 3ms/step - loss: 0.6335 - accuracy: 0.7733 - val_loss: 0.4205 - val_accuracy: 0.8506\n",
      "Epoch 2/50\n",
      "1719/1719 [==============================] - 8s 5ms/step - loss: 0.4784 - accuracy: 0.8266 - val_loss: 0.3988 - val_accuracy: 0.8526\n",
      "Epoch 3/50\n",
      "1719/1719 [==============================] - 5s 3ms/step - loss: 0.4389 - accuracy: 0.8405 - val_loss: 0.3759 - val_accuracy: 0.8606\n",
      "Epoch 4/50\n",
      "1719/1719 [==============================] - 5s 3ms/step - loss: 0.4186 - accuracy: 0.8480 - val_loss: 0.3604 - val_accuracy: 0.8708\n",
      "Epoch 5/50\n",
      "1719/1719 [==============================] - 7s 4ms/step - loss: 0.4006 - accuracy: 0.8546 - val_loss: 0.3448 - val_accuracy: 0.8724\n",
      "Epoch 6/50\n",
      "1719/1719 [==============================] - 5s 3ms/step - loss: 0.3865 - accuracy: 0.8591 - val_loss: 0.3383 - val_accuracy: 0.8720\n",
      "Epoch 7/50\n",
      "1719/1719 [==============================] - 6s 3ms/step - loss: 0.3755 - accuracy: 0.8627 - val_loss: 0.3352 - val_accuracy: 0.8772\n",
      "Epoch 8/50\n",
      "1719/1719 [==============================] - 6s 3ms/step - loss: 0.3623 - accuracy: 0.8667 - val_loss: 0.3346 - val_accuracy: 0.8748\n",
      "Epoch 9/50\n",
      "1719/1719 [==============================] - 6s 3ms/step - loss: 0.3547 - accuracy: 0.8691 - val_loss: 0.3260 - val_accuracy: 0.8792\n",
      "Epoch 10/50\n",
      "1719/1719 [==============================] - 6s 3ms/step - loss: 0.3506 - accuracy: 0.8713 - val_loss: 0.3583 - val_accuracy: 0.8716\n",
      "Epoch 11/50\n",
      "1719/1719 [==============================] - 6s 3ms/step - loss: 0.3423 - accuracy: 0.8736 - val_loss: 0.3179 - val_accuracy: 0.8884\n",
      "Epoch 12/50\n",
      "1719/1719 [==============================] - 6s 3ms/step - loss: 0.3358 - accuracy: 0.8767 - val_loss: 0.3213 - val_accuracy: 0.8854\n",
      "Epoch 13/50\n",
      "1719/1719 [==============================] - 6s 3ms/step - loss: 0.3347 - accuracy: 0.8774 - val_loss: 0.3135 - val_accuracy: 0.8788\n",
      "Epoch 14/50\n",
      "1719/1719 [==============================] - 6s 3ms/step - loss: 0.3291 - accuracy: 0.8798 - val_loss: 0.3159 - val_accuracy: 0.8846\n",
      "Epoch 15/50\n",
      "1719/1719 [==============================] - 6s 3ms/step - loss: 0.3204 - accuracy: 0.8824 - val_loss: 0.3211 - val_accuracy: 0.8890\n",
      "Epoch 16/50\n",
      "1719/1719 [==============================] - 6s 3ms/step - loss: 0.3209 - accuracy: 0.8814 - val_loss: 0.3246 - val_accuracy: 0.8826\n",
      "Epoch 17/50\n",
      "1719/1719 [==============================] - 6s 4ms/step - loss: 0.3152 - accuracy: 0.8825 - val_loss: 0.3135 - val_accuracy: 0.8858\n",
      "Epoch 18/50\n",
      "1719/1719 [==============================] - 7s 4ms/step - loss: 0.3101 - accuracy: 0.8851 - val_loss: 0.3078 - val_accuracy: 0.8864\n",
      "Epoch 19/50\n",
      "1719/1719 [==============================] - 6s 4ms/step - loss: 0.3092 - accuracy: 0.8860 - val_loss: 0.3285 - val_accuracy: 0.8840\n",
      "Epoch 20/50\n",
      "1719/1719 [==============================] - 6s 4ms/step - loss: 0.3058 - accuracy: 0.8881 - val_loss: 0.3144 - val_accuracy: 0.8868\n",
      "Epoch 21/50\n",
      "1719/1719 [==============================] - 6s 3ms/step - loss: 0.3033 - accuracy: 0.8888 - val_loss: 0.3177 - val_accuracy: 0.8848\n",
      "Epoch 22/50\n",
      "1719/1719 [==============================] - 6s 3ms/step - loss: 0.3006 - accuracy: 0.8890 - val_loss: 0.3248 - val_accuracy: 0.8870\n",
      "Epoch 23/50\n",
      "1719/1719 [==============================] - 7s 4ms/step - loss: 0.2942 - accuracy: 0.8904 - val_loss: 0.2885 - val_accuracy: 0.8978\n",
      "Epoch 24/50\n",
      "1719/1719 [==============================] - 11s 6ms/step - loss: 0.2933 - accuracy: 0.8908 - val_loss: 0.3058 - val_accuracy: 0.8894\n",
      "Epoch 25/50\n",
      "1719/1719 [==============================] - 7s 4ms/step - loss: 0.2886 - accuracy: 0.8935 - val_loss: 0.3293 - val_accuracy: 0.8830\n",
      "Epoch 26/50\n",
      "1719/1719 [==============================] - 7s 4ms/step - loss: 0.2892 - accuracy: 0.8926 - val_loss: 0.3131 - val_accuracy: 0.8878\n",
      "Epoch 27/50\n",
      "1719/1719 [==============================] - 9s 5ms/step - loss: 0.2872 - accuracy: 0.8940 - val_loss: 0.3029 - val_accuracy: 0.8904\n",
      "Epoch 28/50\n",
      "1719/1719 [==============================] - 7s 4ms/step - loss: 0.2863 - accuracy: 0.8939 - val_loss: 0.3000 - val_accuracy: 0.8940\n",
      "Epoch 29/50\n",
      "1719/1719 [==============================] - 7s 4ms/step - loss: 0.2835 - accuracy: 0.8950 - val_loss: 0.2999 - val_accuracy: 0.8952\n",
      "Epoch 30/50\n",
      "1719/1719 [==============================] - 7s 4ms/step - loss: 0.2814 - accuracy: 0.8968 - val_loss: 0.3010 - val_accuracy: 0.8956\n",
      "Epoch 31/50\n",
      "1719/1719 [==============================] - 7s 4ms/step - loss: 0.2794 - accuracy: 0.8965 - val_loss: 0.3123 - val_accuracy: 0.8906\n",
      "Epoch 32/50\n",
      "1719/1719 [==============================] - 7s 4ms/step - loss: 0.2756 - accuracy: 0.8973 - val_loss: 0.3227 - val_accuracy: 0.8884\n",
      "Epoch 33/50\n",
      "1719/1719 [==============================] - 6s 4ms/step - loss: 0.2766 - accuracy: 0.8968 - val_loss: 0.3016 - val_accuracy: 0.8994\n"
     ]
    },
    {
     "data": {
      "text/plain": [
       "<AxesSubplot:>"
      ]
     },
     "execution_count": 18,
     "metadata": {},
     "output_type": "execute_result"
    },
    {
     "data": {
      "image/png": "[encoded data removed]",
      "text/plain": [
       "<Figure size 432x288 with 1 Axes>"
      ]
     },
     "metadata": {
      "needs_background": "light"
     },
     "output_type": "display_data"
    }
   ],
   "source": [
    "model = keras.models.Sequential([\n",
    "    keras.layers.Flatten(input_shape=X_train_full.shape[1:]),\n",
    "    keras.layers.Dense(100, activation='selu'),\n",
    "    keras.layers.Dropout(0.2),\n",
    "    keras.layers.Dense(100, activation='selu'),\n",
    "    keras.layers.Dropout(0.2),\n",
    "    keras.layers.Dense(100, activation='selu'),\n",
    "    keras.layers.Dropout(0.2),\n",
    "    keras.layers.Dense(10, activation='softmax'),\n",
    "])\n",
    "\n",
    "callbacks = [\n",
    "    keras.callbacks.EarlyStopping(\n",
    "        patience=10,\n",
    "        restore_best_weights=True,\n",
    "    ),\n",
    "]\n",
    "\n",
    "model.compile(\n",
    "    loss=\"sparse_categorical_crossentropy\",\n",
    "    optimizer=\"adam\",\n",
    "    metrics=[\"accuracy\"],\n",
    ")\n",
    "\n",
    "history = model.fit(\n",
    "    X_train,\n",
    "    y_train,\n",
    "    epochs=50,\n",
    "    validation_data=(X_valid, y_valid),\n",
    "    callbacks=callbacks,\n",
    ")\n",
    "\n",
    "history_df = pd.DataFrame(history.history)\n",
    "history_df.loc[:, ['loss', 'val_loss', 'accuracy', 'val_accuracy']].plot(grid=True, ylim=(0.0, 1.0))"
   ]
  },
  {
   "cell_type": "code",
   "execution_count": 16,
   "metadata": {},
   "outputs": [
    {
     "name": "stdout",
     "output_type": "stream",
     "text": [
      "Epoch 1/50\n",
      "1719/1719 [==============================] - 579s 336ms/step - loss: 0.4972 - accuracy: 0.8172 - val_loss: 0.2911 - val_accuracy: 0.8960\n",
      "Epoch 2/50\n",
      "1719/1719 [==============================] - 573s 333ms/step - loss: 0.3234 - accuracy: 0.8827 - val_loss: 0.2909 - val_accuracy: 0.8874\n",
      "Epoch 3/50\n",
      "1719/1719 [==============================] - 499s 290ms/step - loss: 0.2778 - accuracy: 0.8990 - val_loss: 0.2573 - val_accuracy: 0.9014\n",
      "Epoch 4/50\n",
      "1719/1719 [==============================] - 506s 294ms/step - loss: 0.2488 - accuracy: 0.9108 - val_loss: 0.2860 - val_accuracy: 0.8982\n",
      "Epoch 5/50\n",
      "1719/1719 [==============================] - 582s 338ms/step - loss: 0.2278 - accuracy: 0.9187 - val_loss: 0.2533 - val_accuracy: 0.9114\n",
      "Epoch 6/50\n",
      "1719/1719 [==============================] - 565s 329ms/step - loss: 0.2078 - accuracy: 0.9248 - val_loss: 0.2616 - val_accuracy: 0.9128\n",
      "Epoch 7/50\n",
      "1719/1719 [==============================] - 591s 344ms/step - loss: 0.1934 - accuracy: 0.9315 - val_loss: 0.2462 - val_accuracy: 0.9154\n",
      "Epoch 8/50\n",
      "1719/1719 [==============================] - 593s 345ms/step - loss: 0.1763 - accuracy: 0.9387 - val_loss: 0.2618 - val_accuracy: 0.9106\n",
      "Epoch 9/50\n",
      "1719/1719 [==============================] - 583s 339ms/step - loss: 0.1644 - accuracy: 0.9424 - val_loss: 0.2571 - val_accuracy: 0.9138\n",
      "Epoch 10/50\n",
      "1719/1719 [==============================] - 585s 340ms/step - loss: 0.1490 - accuracy: 0.9477 - val_loss: 0.2786 - val_accuracy: 0.9158\n",
      "Epoch 11/50\n",
      "1719/1719 [==============================] - 589s 343ms/step - loss: 0.1452 - accuracy: 0.9505 - val_loss: 0.3003 - val_accuracy: 0.9172\n",
      "Epoch 12/50\n",
      "1719/1719 [==============================] - 550s 320ms/step - loss: 0.1303 - accuracy: 0.9549 - val_loss: 0.2871 - val_accuracy: 0.9172\n",
      "Epoch 13/50\n",
      "1719/1719 [==============================] - 546s 318ms/step - loss: 0.1246 - accuracy: 0.9571 - val_loss: 0.2822 - val_accuracy: 0.9144\n",
      "Epoch 14/50\n",
      "1719/1719 [==============================] - 548s 319ms/step - loss: 0.1196 - accuracy: 0.9589 - val_loss: 0.3115 - val_accuracy: 0.9166\n",
      "Epoch 15/50\n",
      "1719/1719 [==============================] - 565s 329ms/step - loss: 0.1122 - accuracy: 0.9615 - val_loss: 0.3162 - val_accuracy: 0.9190\n",
      "Epoch 16/50\n",
      "1719/1719 [==============================] - 553s 322ms/step - loss: 0.1068 - accuracy: 0.9640 - val_loss: 0.3908 - val_accuracy: 0.9092\n",
      "Epoch 17/50\n",
      "1719/1719 [==============================] - 552s 321ms/step - loss: 0.0961 - accuracy: 0.9676 - val_loss: 0.3203 - val_accuracy: 0.9172\n"
     ]
    },
    {
     "data": {
      "text/plain": [
       "<AxesSubplot:>"
      ]
     },
     "execution_count": 16,
     "metadata": {},
     "output_type": "execute_result"
    },
    {
     "data": {
      "image/png": "[encoded data removed]",
      "text/plain": [
       "<Figure size 432x288 with 1 Axes>"
      ]
     },
     "metadata": {
      "needs_background": "light"
     },
     "output_type": "display_data"
    }
   ],
   "source": [
    "cnn_model = keras.models.Sequential([\n",
    "    keras.layers.Conv2D(64, 7, activation='relu', padding='same', input_shape=[28, 28, 1]),\n",
    "    keras.layers.MaxPooling2D(2),\n",
    "    keras.layers.Conv2D(128, 3, activation='relu', padding='same'),\n",
    "    keras.layers.Conv2D(128, 3, activation='relu', padding='same'),\n",
    "    keras.layers.MaxPooling2D(2),\n",
    "    keras.layers.Conv2D(256, 3, activation='relu', padding='same'),\n",
    "    keras.layers.Conv2D(256, 3, activation='relu', padding='same'),\n",
    "    keras.layers.MaxPooling2D(2),\n",
    "    keras.layers.Flatten(),\n",
    "    keras.layers.Dense(100, activation='relu'),\n",
    "    keras.layers.Dropout(0.4),\n",
    "    keras.layers.Dense(100, activation='relu'),\n",
    "    keras.layers.Dropout(0.4),\n",
    "    keras.layers.Dense(10, activation='softmax'),\n",
    "])\n",
    "\n",
    "callbacks = [\n",
    "    keras.callbacks.EarlyStopping(\n",
    "        patience=10,\n",
    "        restore_best_weights=True,\n",
    "    ),\n",
    "]\n",
    "\n",
    "cnn_model.compile(\n",
    "    loss=\"sparse_categorical_crossentropy\",\n",
    "    optimizer=\"adam\",\n",
    "    metrics=[\"accuracy\"],\n",
    ")\n",
    "\n",
    "history = cnn_model.fit(\n",
    "    X_train,\n",
    "    y_train,\n",
    "    epochs=50,\n",
    "    validation_data=(X_valid, y_valid),\n",
    "    callbacks=callbacks,\n",
    ")\n",
    "\n",
    "history_df = pd.DataFrame(history.history)\n",
    "history_df.loc[:, ['loss', 'val_loss', 'accuracy', 'val_accuracy']].plot(grid=True, ylim=(0.0, 1.0))"
   ]
  },
  {
   "cell_type": "code",
   "execution_count": 8,
   "metadata": {},
   "outputs": [
    {
     "name": "stderr",
     "output_type": "stream",
     "text": [
      "/tmp/ipykernel_685940/1505965242.py:25: DeprecationWarning: KerasClassifier is deprecated, use Sci-Keras (https://github.com/adriangb/scikeras) instead. See https://www.adriangb.com/scikeras/stable/migration.html for help migrating.\n",
      "  keras.wrappers.scikit_learn.KerasClassifier(build_model),\n"
     ]
    },
    {
     "name": "stdout",
     "output_type": "stream",
     "text": [
      "Epoch 1/100\n"
     ]
    },
    {
     "name": "stderr",
     "output_type": "stream",
     "text": [
      "2022-03-06 19:29:47.402463: W tensorflow/core/framework/cpu_allocator_impl.cc:82] Allocation of 114984576 exceeds 10% of free system memory.\n"
     ]
    },
    {
     "name": "stdout",
     "output_type": "stream",
     "text": [
      "1146/1146 [==============================] - 4s 3ms/step - loss: 1.2809 - accuracy: 0.5326 - val_loss: 0.6372 - val_accuracy: 0.7904\n",
      "Epoch 2/100\n",
      "1146/1146 [==============================] - 3s 3ms/step - loss: 0.8985 - accuracy: 0.6656 - val_loss: 0.5748 - val_accuracy: 0.8146\n",
      "Epoch 3/100\n",
      "1146/1146 [==============================] - 3s 3ms/step - loss: 0.8364 - accuracy: 0.6911 - val_loss: 0.5405 - val_accuracy: 0.8236\n",
      "Epoch 4/100\n",
      "1146/1146 [==============================] - 3s 3ms/step - loss: 0.7913 - accuracy: 0.7106 - val_loss: 0.5213 - val_accuracy: 0.8314\n",
      "Epoch 5/100\n",
      "1146/1146 [==============================] - 4s 3ms/step - loss: 0.7613 - accuracy: 0.7254 - val_loss: 0.5223 - val_accuracy: 0.8314\n",
      "Epoch 6/100\n",
      "1146/1146 [==============================] - 3s 3ms/step - loss: 0.7525 - accuracy: 0.7271 - val_loss: 0.5203 - val_accuracy: 0.8318\n",
      "Epoch 7/100\n",
      "1146/1146 [==============================] - 4s 3ms/step - loss: 0.7451 - accuracy: 0.7301 - val_loss: 0.5240 - val_accuracy: 0.8200\n",
      "Epoch 8/100\n",
      "1146/1146 [==============================] - 4s 3ms/step - loss: 0.7313 - accuracy: 0.7382 - val_loss: 0.5075 - val_accuracy: 0.8330\n",
      "Epoch 9/100\n",
      "1146/1146 [==============================] - 3s 3ms/step - loss: 0.7283 - accuracy: 0.7406 - val_loss: 0.5112 - val_accuracy: 0.8400\n",
      "Epoch 10/100\n",
      "1146/1146 [==============================] - 4s 3ms/step - loss: 0.7188 - accuracy: 0.7457 - val_loss: 0.5081 - val_accuracy: 0.8332\n",
      "Epoch 11/100\n",
      "1146/1146 [==============================] - 4s 4ms/step - loss: 0.7173 - accuracy: 0.7450 - val_loss: 0.5196 - val_accuracy: 0.8310\n",
      "Epoch 12/100\n",
      "1146/1146 [==============================] - 4s 4ms/step - loss: 0.7022 - accuracy: 0.7509 - val_loss: 0.4996 - val_accuracy: 0.8428\n",
      "Epoch 13/100\n",
      "1146/1146 [==============================] - 4s 4ms/step - loss: 0.7081 - accuracy: 0.7497 - val_loss: 0.5080 - val_accuracy: 0.8314\n",
      "Epoch 14/100\n",
      "1146/1146 [==============================] - 4s 4ms/step - loss: 0.7010 - accuracy: 0.7540 - val_loss: 0.5090 - val_accuracy: 0.8378\n",
      "Epoch 15/100\n",
      "1146/1146 [==============================] - 4s 3ms/step - loss: 0.6845 - accuracy: 0.7552 - val_loss: 0.5053 - val_accuracy: 0.8392\n",
      "Epoch 16/100\n",
      "1146/1146 [==============================] - 4s 4ms/step - loss: 0.6889 - accuracy: 0.7559 - val_loss: 0.5023 - val_accuracy: 0.8452\n",
      "Epoch 17/100\n",
      "1146/1146 [==============================] - 4s 3ms/step - loss: 0.6824 - accuracy: 0.7603 - val_loss: 0.4947 - val_accuracy: 0.8418\n",
      "Epoch 18/100\n",
      "1146/1146 [==============================] - 4s 3ms/step - loss: 0.6843 - accuracy: 0.7570 - val_loss: 0.5129 - val_accuracy: 0.8396\n",
      "Epoch 19/100\n",
      "1146/1146 [==============================] - 4s 4ms/step - loss: 0.6710 - accuracy: 0.7629 - val_loss: 0.5226 - val_accuracy: 0.8374\n",
      "Epoch 20/100\n",
      "1146/1146 [==============================] - 4s 4ms/step - loss: 0.6736 - accuracy: 0.7623 - val_loss: 0.5042 - val_accuracy: 0.8452\n",
      "Epoch 21/100\n",
      "1146/1146 [==============================] - 4s 4ms/step - loss: 0.6678 - accuracy: 0.7628 - val_loss: 0.4892 - val_accuracy: 0.8466\n",
      "Epoch 22/100\n",
      "1146/1146 [==============================] - 4s 3ms/step - loss: 0.6602 - accuracy: 0.7652 - val_loss: 0.5044 - val_accuracy: 0.8460\n",
      "Epoch 23/100\n",
      "1146/1146 [==============================] - 4s 3ms/step - loss: 0.6501 - accuracy: 0.7709 - val_loss: 0.5036 - val_accuracy: 0.8432\n",
      "Epoch 24/100\n",
      "1146/1146 [==============================] - 4s 4ms/step - loss: 0.6704 - accuracy: 0.7623 - val_loss: 0.5236 - val_accuracy: 0.8352\n",
      "Epoch 25/100\n",
      "1146/1146 [==============================] - 4s 3ms/step - loss: 0.6639 - accuracy: 0.7645 - val_loss: 0.5132 - val_accuracy: 0.8356\n",
      "Epoch 26/100\n",
      "1146/1146 [==============================] - 4s 3ms/step - loss: 0.6570 - accuracy: 0.7676 - val_loss: 0.5059 - val_accuracy: 0.8396\n",
      "Epoch 27/100\n",
      "1146/1146 [==============================] - 4s 4ms/step - loss: 0.6617 - accuracy: 0.7655 - val_loss: 0.5014 - val_accuracy: 0.8390\n",
      "Epoch 28/100\n",
      "1146/1146 [==============================] - 4s 3ms/step - loss: 0.6516 - accuracy: 0.7653 - val_loss: 0.5038 - val_accuracy: 0.8420\n",
      "Epoch 29/100\n",
      "1146/1146 [==============================] - 4s 3ms/step - loss: 0.6487 - accuracy: 0.7686 - val_loss: 0.5018 - val_accuracy: 0.8424\n",
      "Epoch 30/100\n",
      "1146/1146 [==============================] - 4s 3ms/step - loss: 0.6573 - accuracy: 0.7655 - val_loss: 0.5033 - val_accuracy: 0.8450\n",
      "Epoch 31/100\n",
      "1146/1146 [==============================] - 4s 4ms/step - loss: 0.6482 - accuracy: 0.7703 - val_loss: 0.5109 - val_accuracy: 0.8340\n",
      "573/573 [==============================] - 2s 3ms/step - loss: 0.5037 - accuracy: 0.8402\n",
      "Epoch 1/100\n"
     ]
    },
    {
     "name": "stderr",
     "output_type": "stream",
     "text": [
      "2022-03-06 19:32:13.307233: W tensorflow/core/framework/cpu_allocator_impl.cc:82] Allocation of 114987712 exceeds 10% of free system memory.\n"
     ]
    },
    {
     "name": "stdout",
     "output_type": "stream",
     "text": [
      "1146/1146 [==============================] - 4s 3ms/step - loss: 1.4122 - accuracy: 0.4655 - val_loss: 0.8549 - val_accuracy: 0.6544\n",
      "Epoch 2/100\n",
      "1146/1146 [==============================] - 3s 3ms/step - loss: 1.0226 - accuracy: 0.6105 - val_loss: 0.7354 - val_accuracy: 0.7490\n",
      "Epoch 3/100\n",
      "1146/1146 [==============================] - 3s 3ms/step - loss: 0.9222 - accuracy: 0.6629 - val_loss: 0.6537 - val_accuracy: 0.7938\n",
      "Epoch 4/100\n",
      "1146/1146 [==============================] - 3s 3ms/step - loss: 0.8738 - accuracy: 0.6842 - val_loss: 0.6160 - val_accuracy: 0.8118\n",
      "Epoch 5/100\n",
      "1146/1146 [==============================] - 3s 3ms/step - loss: 0.8400 - accuracy: 0.6996 - val_loss: 0.5868 - val_accuracy: 0.8104\n",
      "Epoch 6/100\n",
      "1146/1146 [==============================] - 3s 3ms/step - loss: 0.8195 - accuracy: 0.7103 - val_loss: 0.6067 - val_accuracy: 0.8064\n",
      "Epoch 7/100\n",
      "1146/1146 [==============================] - 3s 3ms/step - loss: 0.7934 - accuracy: 0.7222 - val_loss: 0.5975 - val_accuracy: 0.8000\n",
      "Epoch 8/100\n",
      "1146/1146 [==============================] - 3s 3ms/step - loss: 0.7864 - accuracy: 0.7199 - val_loss: 0.5627 - val_accuracy: 0.8188\n",
      "Epoch 9/100\n",
      "1146/1146 [==============================] - 3s 3ms/step - loss: 0.7759 - accuracy: 0.7278 - val_loss: 0.5566 - val_accuracy: 0.8196\n",
      "Epoch 10/100\n",
      "1146/1146 [==============================] - 3s 3ms/step - loss: 0.7771 - accuracy: 0.7268 - val_loss: 0.5421 - val_accuracy: 0.8342\n",
      "Epoch 11/100\n",
      "1146/1146 [==============================] - 3s 3ms/step - loss: 0.7611 - accuracy: 0.7307 - val_loss: 0.5441 - val_accuracy: 0.8308\n",
      "Epoch 12/100\n",
      "1146/1146 [==============================] - 4s 3ms/step - loss: 0.7589 - accuracy: 0.7359 - val_loss: 0.5373 - val_accuracy: 0.8228\n",
      "Epoch 13/100\n",
      "1146/1146 [==============================] - 4s 3ms/step - loss: 0.7528 - accuracy: 0.7343 - val_loss: 0.5371 - val_accuracy: 0.8298\n",
      "Epoch 14/100\n",
      "1146/1146 [==============================] - 4s 3ms/step - loss: 0.7485 - accuracy: 0.7386 - val_loss: 0.5466 - val_accuracy: 0.8206\n",
      "Epoch 15/100\n",
      "1146/1146 [==============================] - 4s 3ms/step - loss: 0.7396 - accuracy: 0.7425 - val_loss: 0.5304 - val_accuracy: 0.8288\n",
      "Epoch 16/100\n",
      "1146/1146 [==============================] - 4s 3ms/step - loss: 0.7334 - accuracy: 0.7433 - val_loss: 0.5398 - val_accuracy: 0.8240\n",
      "Epoch 17/100\n",
      "1146/1146 [==============================] - 4s 3ms/step - loss: 0.7347 - accuracy: 0.7447 - val_loss: 0.5340 - val_accuracy: 0.8292\n",
      "Epoch 18/100\n",
      "1146/1146 [==============================] - 4s 3ms/step - loss: 0.7314 - accuracy: 0.7450 - val_loss: 0.5378 - val_accuracy: 0.8280\n",
      "Epoch 19/100\n",
      "1146/1146 [==============================] - 4s 3ms/step - loss: 0.7223 - accuracy: 0.7470 - val_loss: 0.5572 - val_accuracy: 0.8230\n",
      "Epoch 20/100\n",
      "1146/1146 [==============================] - 4s 3ms/step - loss: 0.7255 - accuracy: 0.7452 - val_loss: 0.5581 - val_accuracy: 0.8118\n",
      "Epoch 21/100\n",
      "1146/1146 [==============================] - 4s 3ms/step - loss: 0.7117 - accuracy: 0.7499 - val_loss: 0.5304 - val_accuracy: 0.8252\n",
      "Epoch 22/100\n",
      "1146/1146 [==============================] - 4s 3ms/step - loss: 0.7205 - accuracy: 0.7509 - val_loss: 0.5323 - val_accuracy: 0.8284\n",
      "Epoch 23/100\n",
      "1146/1146 [==============================] - 4s 3ms/step - loss: 0.7205 - accuracy: 0.7495 - val_loss: 0.5433 - val_accuracy: 0.8324\n",
      "Epoch 24/100\n",
      "1146/1146 [==============================] - 4s 3ms/step - loss: 0.7194 - accuracy: 0.7504 - val_loss: 0.5241 - val_accuracy: 0.8406\n",
      "Epoch 25/100\n",
      "1146/1146 [==============================] - 4s 3ms/step - loss: 0.7058 - accuracy: 0.7559 - val_loss: 0.5343 - val_accuracy: 0.8282\n",
      "Epoch 26/100\n",
      "1146/1146 [==============================] - 4s 3ms/step - loss: 0.7053 - accuracy: 0.7550 - val_loss: 0.5207 - val_accuracy: 0.8364\n",
      "Epoch 27/100\n",
      "1146/1146 [==============================] - 4s 3ms/step - loss: 0.7043 - accuracy: 0.7555 - val_loss: 0.5342 - val_accuracy: 0.8284\n",
      "Epoch 28/100\n",
      "1146/1146 [==============================] - 4s 3ms/step - loss: 0.7044 - accuracy: 0.7544 - val_loss: 0.5206 - val_accuracy: 0.8364\n",
      "Epoch 29/100\n",
      "1146/1146 [==============================] - 4s 3ms/step - loss: 0.7054 - accuracy: 0.7571 - val_loss: 0.5424 - val_accuracy: 0.8350\n",
      "Epoch 30/100\n",
      "1146/1146 [==============================] - 4s 3ms/step - loss: 0.6934 - accuracy: 0.7606 - val_loss: 0.5086 - val_accuracy: 0.8434\n",
      "Epoch 31/100\n",
      "1146/1146 [==============================] - 4s 3ms/step - loss: 0.6981 - accuracy: 0.7560 - val_loss: 0.5339 - val_accuracy: 0.8346\n",
      "Epoch 32/100\n",
      "1146/1146 [==============================] - 4s 3ms/step - loss: 0.6942 - accuracy: 0.7585 - val_loss: 0.5275 - val_accuracy: 0.8324\n",
      "Epoch 33/100\n",
      "1146/1146 [==============================] - 4s 3ms/step - loss: 0.7005 - accuracy: 0.7572 - val_loss: 0.5257 - val_accuracy: 0.8406\n",
      "Epoch 34/100\n",
      "1146/1146 [==============================] - 4s 3ms/step - loss: 0.6936 - accuracy: 0.7600 - val_loss: 0.5302 - val_accuracy: 0.8376\n",
      "Epoch 35/100\n",
      "1146/1146 [==============================] - 4s 3ms/step - loss: 0.6936 - accuracy: 0.7594 - val_loss: 0.5228 - val_accuracy: 0.8288\n",
      "Epoch 36/100\n",
      "1146/1146 [==============================] - 4s 3ms/step - loss: 0.6892 - accuracy: 0.7591 - val_loss: 0.5249 - val_accuracy: 0.8362\n",
      "Epoch 37/100\n",
      "1146/1146 [==============================] - 4s 3ms/step - loss: 0.6901 - accuracy: 0.7589 - val_loss: 0.5421 - val_accuracy: 0.8260\n",
      "Epoch 38/100\n",
      "1146/1146 [==============================] - 4s 3ms/step - loss: 0.6892 - accuracy: 0.7621 - val_loss: 0.5263 - val_accuracy: 0.8258\n",
      "Epoch 39/100\n",
      "1146/1146 [==============================] - 4s 3ms/step - loss: 0.6852 - accuracy: 0.7623 - val_loss: 0.5385 - val_accuracy: 0.8370\n",
      "Epoch 40/100\n",
      "1146/1146 [==============================] - 4s 3ms/step - loss: 0.6824 - accuracy: 0.7628 - val_loss: 0.5195 - val_accuracy: 0.8408\n",
      "573/573 [==============================] - 2s 3ms/step - loss: 0.5262 - accuracy: 0.8359\n",
      "Epoch 1/100\n"
     ]
    },
    {
     "name": "stderr",
     "output_type": "stream",
     "text": [
      "2022-03-06 19:34:38.639762: W tensorflow/core/framework/cpu_allocator_impl.cc:82] Allocation of 114987712 exceeds 10% of free system memory.\n"
     ]
    },
    {
     "name": "stdout",
     "output_type": "stream",
     "text": [
      "1146/1146 [==============================] - 3s 3ms/step - loss: 1.3003 - accuracy: 0.5094 - val_loss: 0.6564 - val_accuracy: 0.7342\n",
      "Epoch 2/100\n",
      "1146/1146 [==============================] - 3s 2ms/step - loss: 0.8868 - accuracy: 0.6532 - val_loss: 0.5758 - val_accuracy: 0.7870\n",
      "Epoch 3/100\n",
      "1146/1146 [==============================] - 3s 3ms/step - loss: 0.8144 - accuracy: 0.6886 - val_loss: 0.5543 - val_accuracy: 0.8092\n",
      "Epoch 4/100\n",
      "1146/1146 [==============================] - 3s 3ms/step - loss: 0.7716 - accuracy: 0.7054 - val_loss: 0.5330 - val_accuracy: 0.8122\n",
      "Epoch 5/100\n",
      "1146/1146 [==============================] - 3s 3ms/step - loss: 0.7430 - accuracy: 0.7181 - val_loss: 0.5435 - val_accuracy: 0.8114\n",
      "Epoch 6/100\n",
      "1146/1146 [==============================] - 3s 3ms/step - loss: 0.7303 - accuracy: 0.7265 - val_loss: 0.5171 - val_accuracy: 0.8188\n",
      "Epoch 7/100\n",
      "1146/1146 [==============================] - 3s 3ms/step - loss: 0.7156 - accuracy: 0.7319 - val_loss: 0.5107 - val_accuracy: 0.8240\n",
      "Epoch 8/100\n",
      "1146/1146 [==============================] - 3s 3ms/step - loss: 0.7058 - accuracy: 0.7394 - val_loss: 0.4942 - val_accuracy: 0.8280\n",
      "Epoch 9/100\n",
      "1146/1146 [==============================] - 3s 3ms/step - loss: 0.6857 - accuracy: 0.7487 - val_loss: 0.5081 - val_accuracy: 0.8284\n",
      "Epoch 10/100\n",
      "1146/1146 [==============================] - 3s 3ms/step - loss: 0.6917 - accuracy: 0.7475 - val_loss: 0.4924 - val_accuracy: 0.8354\n",
      "Epoch 11/100\n",
      "1146/1146 [==============================] - 3s 3ms/step - loss: 0.6786 - accuracy: 0.7534 - val_loss: 0.4988 - val_accuracy: 0.8398\n",
      "Epoch 12/100\n",
      "1146/1146 [==============================] - 3s 3ms/step - loss: 0.6755 - accuracy: 0.7538 - val_loss: 0.4907 - val_accuracy: 0.8438\n",
      "Epoch 13/100\n",
      "1146/1146 [==============================] - 3s 3ms/step - loss: 0.6694 - accuracy: 0.7557 - val_loss: 0.4962 - val_accuracy: 0.8430\n",
      "Epoch 14/100\n",
      "1146/1146 [==============================] - 4s 3ms/step - loss: 0.6677 - accuracy: 0.7601 - val_loss: 0.5041 - val_accuracy: 0.8408\n",
      "Epoch 15/100\n",
      "1146/1146 [==============================] - 4s 3ms/step - loss: 0.6598 - accuracy: 0.7621 - val_loss: 0.5137 - val_accuracy: 0.8386\n",
      "Epoch 16/100\n",
      "1146/1146 [==============================] - 4s 3ms/step - loss: 0.6588 - accuracy: 0.7623 - val_loss: 0.5102 - val_accuracy: 0.8274\n",
      "Epoch 17/100\n",
      "1146/1146 [==============================] - 4s 3ms/step - loss: 0.6476 - accuracy: 0.7649 - val_loss: 0.4885 - val_accuracy: 0.8442\n",
      "Epoch 18/100\n",
      "1146/1146 [==============================] - 4s 3ms/step - loss: 0.6476 - accuracy: 0.7657 - val_loss: 0.4944 - val_accuracy: 0.8438\n",
      "Epoch 19/100\n",
      "1146/1146 [==============================] - 4s 3ms/step - loss: 0.6518 - accuracy: 0.7677 - val_loss: 0.4874 - val_accuracy: 0.8446\n",
      "Epoch 20/100\n",
      "1146/1146 [==============================] - 4s 3ms/step - loss: 0.6382 - accuracy: 0.7715 - val_loss: 0.4864 - val_accuracy: 0.8470\n",
      "Epoch 21/100\n",
      "1146/1146 [==============================] - 4s 3ms/step - loss: 0.6384 - accuracy: 0.7712 - val_loss: 0.4766 - val_accuracy: 0.8460\n",
      "Epoch 22/100\n",
      "1146/1146 [==============================] - 4s 3ms/step - loss: 0.6369 - accuracy: 0.7686 - val_loss: 0.5001 - val_accuracy: 0.8426\n",
      "Epoch 23/100\n",
      "1146/1146 [==============================] - 4s 3ms/step - loss: 0.6370 - accuracy: 0.7728 - val_loss: 0.4825 - val_accuracy: 0.8460\n",
      "Epoch 24/100\n",
      "1146/1146 [==============================] - 4s 3ms/step - loss: 0.6290 - accuracy: 0.7743 - val_loss: 0.4960 - val_accuracy: 0.8490\n",
      "Epoch 25/100\n",
      "1146/1146 [==============================] - 4s 3ms/step - loss: 0.6218 - accuracy: 0.7785 - val_loss: 0.5076 - val_accuracy: 0.8442\n",
      "Epoch 26/100\n",
      "1146/1146 [==============================] - 4s 3ms/step - loss: 0.6296 - accuracy: 0.7760 - val_loss: 0.5110 - val_accuracy: 0.8392\n",
      "Epoch 27/100\n",
      "1146/1146 [==============================] - 4s 3ms/step - loss: 0.6215 - accuracy: 0.7806 - val_loss: 0.4972 - val_accuracy: 0.8446\n",
      "Epoch 28/100\n",
      "1146/1146 [==============================] - 4s 3ms/step - loss: 0.6242 - accuracy: 0.7785 - val_loss: 0.4847 - val_accuracy: 0.8472\n",
      "Epoch 29/100\n",
      "1146/1146 [==============================] - 4s 3ms/step - loss: 0.6176 - accuracy: 0.7805 - val_loss: 0.5090 - val_accuracy: 0.8290\n",
      "Epoch 30/100\n",
      "1146/1146 [==============================] - 4s 3ms/step - loss: 0.6197 - accuracy: 0.7821 - val_loss: 0.4954 - val_accuracy: 0.8420\n",
      "Epoch 31/100\n",
      "1146/1146 [==============================] - 4s 3ms/step - loss: 0.6178 - accuracy: 0.7824 - val_loss: 0.4816 - val_accuracy: 0.8446\n",
      "573/573 [==============================] - 2s 3ms/step - loss: 0.4689 - accuracy: 0.8382\n",
      "Epoch 1/100\n"
     ]
    },
    {
     "name": "stderr",
     "output_type": "stream",
     "text": [
      "2022-03-06 19:36:28.630167: W tensorflow/core/framework/cpu_allocator_impl.cc:82] Allocation of 172480000 exceeds 10% of free system memory.\n"
     ]
    },
    {
     "name": "stdout",
     "output_type": "stream",
     "text": [
      "1719/1719 [==============================] - 5s 2ms/step - loss: 1.1671 - accuracy: 0.5623 - val_loss: 0.5936 - val_accuracy: 0.7856\n",
      "Epoch 2/100\n",
      "1719/1719 [==============================] - 4s 2ms/step - loss: 0.8373 - accuracy: 0.6939 - val_loss: 0.5206 - val_accuracy: 0.8184\n",
      "Epoch 3/100\n",
      "1719/1719 [==============================] - 4s 2ms/step - loss: 0.7678 - accuracy: 0.7202 - val_loss: 0.5077 - val_accuracy: 0.8216\n",
      "Epoch 4/100\n",
      "1719/1719 [==============================] - 4s 2ms/step - loss: 0.7373 - accuracy: 0.7349 - val_loss: 0.4995 - val_accuracy: 0.8222\n",
      "Epoch 5/100\n",
      "1719/1719 [==============================] - 4s 3ms/step - loss: 0.7212 - accuracy: 0.7416 - val_loss: 0.4878 - val_accuracy: 0.8304\n",
      "Epoch 6/100\n",
      "1719/1719 [==============================] - 4s 3ms/step - loss: 0.7132 - accuracy: 0.7429 - val_loss: 0.4918 - val_accuracy: 0.8316\n",
      "Epoch 7/100\n",
      "1719/1719 [==============================] - 5s 3ms/step - loss: 0.7075 - accuracy: 0.7461 - val_loss: 0.5009 - val_accuracy: 0.8366\n",
      "Epoch 8/100\n",
      "1719/1719 [==============================] - 5s 3ms/step - loss: 0.6956 - accuracy: 0.7501 - val_loss: 0.4714 - val_accuracy: 0.8328\n",
      "Epoch 9/100\n",
      "1719/1719 [==============================] - 5s 3ms/step - loss: 0.6931 - accuracy: 0.7501 - val_loss: 0.4807 - val_accuracy: 0.8378\n",
      "Epoch 10/100\n",
      "1719/1719 [==============================] - 5s 3ms/step - loss: 0.6868 - accuracy: 0.7542 - val_loss: 0.4829 - val_accuracy: 0.8390\n",
      "Epoch 11/100\n",
      "1719/1719 [==============================] - 5s 3ms/step - loss: 0.6853 - accuracy: 0.7552 - val_loss: 0.4840 - val_accuracy: 0.8460\n",
      "Epoch 12/100\n",
      "1719/1719 [==============================] - 5s 3ms/step - loss: 0.6735 - accuracy: 0.7577 - val_loss: 0.4779 - val_accuracy: 0.8398\n",
      "Epoch 13/100\n",
      "1719/1719 [==============================] - 5s 3ms/step - loss: 0.6703 - accuracy: 0.7570 - val_loss: 0.4848 - val_accuracy: 0.8390\n",
      "Epoch 14/100\n",
      "1719/1719 [==============================] - 5s 3ms/step - loss: 0.6649 - accuracy: 0.7603 - val_loss: 0.4677 - val_accuracy: 0.8406\n",
      "Epoch 15/100\n",
      "1719/1719 [==============================] - 5s 3ms/step - loss: 0.6612 - accuracy: 0.7612 - val_loss: 0.4673 - val_accuracy: 0.8426\n",
      "Epoch 16/100\n",
      "1719/1719 [==============================] - 5s 3ms/step - loss: 0.6633 - accuracy: 0.7625 - val_loss: 0.4841 - val_accuracy: 0.8386\n",
      "Epoch 17/100\n",
      "1719/1719 [==============================] - 5s 3ms/step - loss: 0.6603 - accuracy: 0.7617 - val_loss: 0.4824 - val_accuracy: 0.8430\n",
      "Epoch 18/100\n",
      "1719/1719 [==============================] - 6s 3ms/step - loss: 0.6600 - accuracy: 0.7631 - val_loss: 0.4701 - val_accuracy: 0.8384\n",
      "Epoch 19/100\n",
      "1719/1719 [==============================] - 7s 4ms/step - loss: 0.6587 - accuracy: 0.7647 - val_loss: 0.4702 - val_accuracy: 0.8362\n",
      "Epoch 20/100\n",
      "1719/1719 [==============================] - 7s 4ms/step - loss: 0.6496 - accuracy: 0.7652 - val_loss: 0.4804 - val_accuracy: 0.8440\n",
      "Epoch 21/100\n",
      "1719/1719 [==============================] - 6s 3ms/step - loss: 0.6448 - accuracy: 0.7667 - val_loss: 0.4741 - val_accuracy: 0.8460\n",
      "Epoch 22/100\n",
      "1719/1719 [==============================] - 5s 3ms/step - loss: 0.6586 - accuracy: 0.7608 - val_loss: 0.4721 - val_accuracy: 0.8452\n",
      "Epoch 23/100\n",
      "1719/1719 [==============================] - 5s 3ms/step - loss: 0.6489 - accuracy: 0.7659 - val_loss: 0.4677 - val_accuracy: 0.8424\n",
      "Epoch 24/100\n",
      "1719/1719 [==============================] - 5s 3ms/step - loss: 0.6523 - accuracy: 0.7656 - val_loss: 0.4794 - val_accuracy: 0.8406\n",
      "Epoch 25/100\n",
      "1719/1719 [==============================] - 5s 3ms/step - loss: 0.6472 - accuracy: 0.7665 - val_loss: 0.4589 - val_accuracy: 0.8512\n",
      "Epoch 26/100\n",
      "1719/1719 [==============================] - 5s 3ms/step - loss: 0.6499 - accuracy: 0.7659 - val_loss: 0.4585 - val_accuracy: 0.8494\n",
      "Epoch 27/100\n",
      "1719/1719 [==============================] - 5s 3ms/step - loss: 0.6442 - accuracy: 0.7693 - val_loss: 0.4690 - val_accuracy: 0.8396\n",
      "Epoch 28/100\n",
      "1719/1719 [==============================] - 6s 3ms/step - loss: 0.6413 - accuracy: 0.7702 - val_loss: 0.4681 - val_accuracy: 0.8484\n",
      "Epoch 29/100\n",
      "1719/1719 [==============================] - 5s 3ms/step - loss: 0.6442 - accuracy: 0.7693 - val_loss: 0.4718 - val_accuracy: 0.8484\n",
      "Epoch 30/100\n",
      "1719/1719 [==============================] - 5s 3ms/step - loss: 0.6373 - accuracy: 0.7723 - val_loss: 0.4678 - val_accuracy: 0.8466\n",
      "Epoch 31/100\n",
      "1719/1719 [==============================] - 5s 3ms/step - loss: 0.6396 - accuracy: 0.7696 - val_loss: 0.4795 - val_accuracy: 0.8438\n",
      "Epoch 32/100\n",
      "1719/1719 [==============================] - 5s 3ms/step - loss: 0.6415 - accuracy: 0.7677 - val_loss: 0.4617 - val_accuracy: 0.8474\n",
      "Epoch 33/100\n",
      "1719/1719 [==============================] - 5s 3ms/step - loss: 0.6418 - accuracy: 0.7703 - val_loss: 0.4886 - val_accuracy: 0.8384\n",
      "Epoch 34/100\n",
      "1719/1719 [==============================] - 5s 3ms/step - loss: 0.6358 - accuracy: 0.7698 - val_loss: 0.4720 - val_accuracy: 0.8416\n",
      "Epoch 35/100\n",
      "1719/1719 [==============================] - 6s 3ms/step - loss: 0.6325 - accuracy: 0.7717 - val_loss: 0.4672 - val_accuracy: 0.8482\n",
      "Epoch 36/100\n",
      "1719/1719 [==============================] - 5s 3ms/step - loss: 0.6393 - accuracy: 0.7715 - val_loss: 0.4687 - val_accuracy: 0.8390\n"
     ]
    },
    {
     "data": {
      "text/plain": [
       "RandomizedSearchCV(cv=3,\n",
       "                   estimator=<keras.wrappers.scikit_learn.KerasClassifier object at 0x7f0ef040c460>,\n",
       "                   n_iter=1,\n",
       "                   param_distributions={'n_hidden': [0, 1, 2, 3],\n",
       "                                        'n_neurons': array([ 1,  2,  3,  4,  5,  6,  7,  8,  9, 10, 11, 12, 13, 14, 15, 16, 17,\n",
       "       18, 19, 20, 21, 22, 23, 24, 25, 26, 27, 28, 29, 30, 31, 32, 33, 34,\n",
       "       35, 36, 37, 38, 39, 40, 41, 42, 43, 44, 45, 46, 47, 48, 49, 50, 51,\n",
       "       52, 53, 54, 55, 56, 57, 58, 59, 60, 61, 62, 63, 64, 65, 66, 67, 68,\n",
       "       69, 70, 71, 72, 73, 74, 75, 76, 77, 78, 79, 80, 81, 82, 83, 84, 85,\n",
       "       86, 87, 88, 89, 90, 91, 92, 93, 94, 95, 96, 97, 98, 99])})"
      ]
     },
     "execution_count": 8,
     "metadata": {},
     "output_type": "execute_result"
    }
   ],
   "source": [
    "import numpy as np\n",
    "from sklearn.model_selection import RandomizedSearchCV\n",
    "\n",
    "def build_model(n_hidden=1, n_neurons=30, input_shape=X_train_full.shape[1:]):\n",
    "    model = keras.models.Sequential()\n",
    "    model.add(keras.layers.InputLayer(input_shape=input_shape))\n",
    "    model.add(keras.layers.Flatten())\n",
    "    for layer in range(n_hidden):\n",
    "        model.add(keras.layers.Dense(n_neurons, activation='relu'))\n",
    "        model.add(keras.layers.Dropout(0.2))\n",
    "    model.add(keras.layers.Dense(10, activation='softmax'))\n",
    "    model.compile(\n",
    "        loss=\"sparse_categorical_crossentropy\",\n",
    "        optimizer=\"adam\",\n",
    "        metrics=[\"accuracy\"],\n",
    "    )\n",
    "    return model\n",
    "\n",
    "params = {\n",
    "    \"n_hidden\": [0, 1, 2, 3],\n",
    "    \"n_neurons\": np.arange(1, 100),\n",
    "}\n",
    "\n",
    "model_search_cv = RandomizedSearchCV(\n",
    "    keras.wrappers.scikit_learn.KerasClassifier(build_model),\n",
    "    params,\n",
    "    n_iter=1,\n",
    "    cv=3,\n",
    ")\n",
    "model_search_cv.fit(X_train, y_train, epochs=100, validation_data=(X_valid, y_valid), callbacks=callbacks)\n",
    "\n"
   ]
  },
  {
   "cell_type": "code",
   "execution_count": 9,
   "metadata": {},
   "outputs": [
    {
     "data": {
      "text/plain": [
       "{'n_neurons': 16, 'n_hidden': 3}"
      ]
     },
     "execution_count": 9,
     "metadata": {},
     "output_type": "execute_result"
    }
   ],
   "source": [
    "model_search_cv.best_params_"
   ]
  },
  {
   "cell_type": "code",
   "execution_count": 10,
   "metadata": {},
   "outputs": [
    {
     "data": {
      "text/plain": [
       "0.8380908568700155"
      ]
     },
     "execution_count": 10,
     "metadata": {},
     "output_type": "execute_result"
    }
   ],
   "source": [
    "model_search_cv.best_score_"
   ]
  },
  {
   "cell_type": "code",
   "execution_count": null,
   "metadata": {},
   "outputs": [],
   "source": []
  }
 ],
 "metadata": {
  "interpreter": {
   "hash": "4c0736d048e0a50360e11e2a8529201742ba1aca677653f0cfe7080c59c01314"
  },
  "kernelspec": {
   "display_name": "Python 3.9.7 ('venv': venv)",
   "language": "python",
   "name": "python3"
  },
  "language_info": {
   "codemirror_mode": {
    "name": "ipython",
    "version": 3
   },
   "file_extension": ".py",
   "mimetype": "text/x-python",
   "name": "python",
   "nbconvert_exporter": "python",
   "pygments_lexer": "ipython3",
   "version": "3.9.7"
  },
  "orig_nbformat": 4
 },
 "nbformat": 4,
 "nbformat_minor": 2
}
