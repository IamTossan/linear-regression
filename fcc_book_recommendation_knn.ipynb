{
  "cells": [
    {
      "cell_type": "markdown",
      "metadata": {
        "id": "uGd4NYQX1Rf_"
      },
      "source": [
        "*Note: You are currently reading this using Google Colaboratory which is a cloud-hosted version of Jupyter Notebook. This is a document containing both text cells for documentation and runnable code cells. If you are unfamiliar with Jupyter Notebook, watch this 3-minute introduction before starting this challenge: https://www.youtube.com/watch?v=inN8seMm7UI*\n",
        "\n",
        "---\n",
        "\n",
        "In this challenge, you will create a book recommendation algorithm using **K-Nearest Neighbors**.\n",
        "\n",
        "You will use the [Book-Crossings dataset](http://www2.informatik.uni-freiburg.de/~cziegler/BX/). This dataset contains 1.1 million ratings (scale of 1-10) of 270,000 books by 90,000 users. \n",
        "\n",
        "After importing and cleaning the data, use `NearestNeighbors` from `sklearn.neighbors` to develop a model that shows books that are similar to a given book. The Nearest Neighbors algorithm measures distance to determine the “closeness” of instances.\n",
        "\n",
        "Create a function named `get_recommends` that takes a book title (from the dataset) as an argument and returns a list of 5 similar books with their distances from the book argument.\n",
        "\n",
        "This code:\n",
        "\n",
        "`get_recommends(\"The Queen of the Damned (Vampire Chronicles (Paperback))\")`\n",
        "\n",
        "should return:\n",
        "\n",
        "```\n",
        "[\n",
        "  'The Queen of the Damned (Vampire Chronicles (Paperback))',\n",
        "  [\n",
        "    ['Catch 22', 0.793983519077301], \n",
        "    ['The Witching Hour (Lives of the Mayfair Witches)', 0.7448656558990479], \n",
        "    ['Interview with the Vampire', 0.7345068454742432],\n",
        "    ['The Tale of the Body Thief (Vampire Chronicles (Paperback))', 0.5376338362693787],\n",
        "    ['The Vampire Lestat (Vampire Chronicles, Book II)', 0.5178412199020386]\n",
        "  ]\n",
        "]\n",
        "```\n",
        "\n",
        "Notice that the data returned from `get_recommends()` is a list. The first element in the list is the book title passed in to the function. The second element in the list is a list of five more lists. Each of the five lists contains a recommended book and the distance from the recommended book to the book passed in to the function.\n",
        "\n",
        "If you graph the dataset (optional), you will notice that most books are not rated frequently. To ensure statistical significance, remove from the dataset users with less than 200 ratings and books with less than 100 ratings.\n",
        "\n",
        "The first three cells import libraries you may need and the data to use. The final cell is for testing. Write all your code in between those cells."
      ]
    },
    {
      "cell_type": "code",
      "execution_count": 1,
      "metadata": {
        "id": "Y1onB6kUvo4Z"
      },
      "outputs": [],
      "source": [
        "# import libraries (you may add additional imports but you may not have to)\n",
        "import numpy as np\n",
        "import pandas as pd\n",
        "from scipy.sparse import csr_matrix\n",
        "from sklearn.neighbors import NearestNeighbors\n",
        "import matplotlib.pyplot as plt"
      ]
    },
    {
      "cell_type": "code",
      "execution_count": 2,
      "metadata": {
        "id": "iAQGqqO_vo4d",
        "outputId": "a0da709b-d614-4a0d-be74-e10aace31825",
        "colab": {
          "base_uri": "https://localhost:8080/"
        }
      },
      "outputs": [
        {
          "output_type": "stream",
          "name": "stdout",
          "text": [
            "--2022-03-03 07:39:43--  https://cdn.freecodecamp.org/project-data/books/book-crossings.zip\n",
            "Resolving cdn.freecodecamp.org (cdn.freecodecamp.org)... 104.26.2.33, 172.67.70.149, 104.26.3.33, ...\n",
            "Connecting to cdn.freecodecamp.org (cdn.freecodecamp.org)|104.26.2.33|:443... connected.\n",
            "HTTP request sent, awaiting response... 200 OK\n",
            "Length: 26085508 (25M) [application/zip]\n",
            "Saving to: ‘book-crossings.zip’\n",
            "\n",
            "book-crossings.zip  100%[===================>]  24.88M  82.4MB/s    in 0.3s    \n",
            "\n",
            "2022-03-03 07:39:43 (82.4 MB/s) - ‘book-crossings.zip’ saved [26085508/26085508]\n",
            "\n",
            "Archive:  book-crossings.zip\n",
            "  inflating: BX-Book-Ratings.csv     \n",
            "  inflating: BX-Books.csv            \n",
            "  inflating: BX-Users.csv            \n"
          ]
        }
      ],
      "source": [
        "# get data files\n",
        "!wget https://cdn.freecodecamp.org/project-data/books/book-crossings.zip\n",
        "\n",
        "!unzip book-crossings.zip\n",
        "\n",
        "books_filename = 'BX-Books.csv'\n",
        "ratings_filename = 'BX-Book-Ratings.csv'"
      ]
    },
    {
      "cell_type": "code",
      "execution_count": 9,
      "metadata": {
        "id": "NClILWOiEd6Q"
      },
      "outputs": [],
      "source": [
        "# import csv data into dataframes\n",
        "df_books = pd.read_csv(\n",
        "    books_filename,\n",
        "    encoding = \"ISO-8859-1\",\n",
        "    sep=\";\",\n",
        "    header=0,\n",
        "    names=['isbn', 'title', 'author'],\n",
        "    usecols=['isbn', 'title', 'author'],\n",
        "    dtype={'isbn': 'str', 'title': 'str', 'author': 'str'})\n",
        "\n",
        "df_ratings = pd.read_csv(\n",
        "    ratings_filename,\n",
        "    encoding = \"ISO-8859-1\",\n",
        "    sep=\";\",\n",
        "    header=0,\n",
        "    names=['user', 'isbn', 'rating'],\n",
        "    usecols=['user', 'isbn', 'rating'],\n",
        "    dtype={'user': 'int32', 'isbn': 'str', 'rating': 'float32'})"
      ]
    },
    {
      "cell_type": "code",
      "execution_count": 26,
      "metadata": {
        "id": "xAcXjkCFCh0A"
      },
      "outputs": [],
      "source": [
        "df_ratings = df_ratings[df_ratings['user'].isin((df_ratings['user'].value_counts() > 200).index) & df_ratings['isbn'].isin((df_ratings['isbn'].value_counts() > 100).index)]"
      ]
    },
    {
      "cell_type": "code",
      "source": [
        "df = pd.DataFrame({'angles': [0, 3, 4],\n",
        "                   'degrees': [360, 180, 360]},\n",
        "                  index=['circle', 'triangle', 'rectangle'])\n",
        "print(df)\n",
        "(df.sub(df.iloc[0], axis=1) ** 2).sum(axis=1).sort_values()"
      ],
      "metadata": {
        "id": "RiitUIZkNHZF",
        "outputId": "b870bd1e-940d-4b1a-eb70-2fb9b3749ac4",
        "colab": {
          "base_uri": "https://localhost:8080/"
        }
      },
      "execution_count": 5,
      "outputs": [
        {
          "output_type": "stream",
          "name": "stdout",
          "text": [
            "           angles  degrees\n",
            "circle          0      360\n",
            "triangle        3      180\n",
            "rectangle       4      360\n"
          ]
        },
        {
          "output_type": "execute_result",
          "data": {
            "text/plain": [
              "circle           0\n",
              "rectangle       16\n",
              "triangle     32409\n",
              "dtype: int64"
            ]
          },
          "metadata": {},
          "execution_count": 5
        }
      ]
    },
    {
      "cell_type": "code",
      "source": [
        "df_ratings['rating'].value_counts()"
      ],
      "metadata": {
        "id": "bgwvgJrKuujy",
        "outputId": "25e835d2-b6f4-4cf3-a74d-3a00f8550754",
        "colab": {
          "base_uri": "https://localhost:8080/"
        }
      },
      "execution_count": 16,
      "outputs": [
        {
          "output_type": "execute_result",
          "data": {
            "text/plain": [
              "0.0     716109\n",
              "8.0     103736\n",
              "10.0     78610\n",
              "7.0      76457\n",
              "9.0      67541\n",
              "5.0      50974\n",
              "6.0      36924\n",
              "4.0       8904\n",
              "3.0       5996\n",
              "2.0       2759\n",
              "1.0       1770\n",
              "Name: rating, dtype: int64"
            ]
          },
          "metadata": {},
          "execution_count": 16
        }
      ]
    },
    {
      "cell_type": "code",
      "execution_count": 27,
      "metadata": {
        "id": "f5ZUd-L1SQz7",
        "outputId": "73407378-a9f2-4d57-c95a-e635ef818e9a",
        "colab": {
          "base_uri": "https://localhost:8080/"
        }
      },
      "outputs": [
        {
          "output_type": "stream",
          "name": "stdout",
          "text": [
            "Non zero values in cooccurence_matrix :25069\n",
            "refs:\n",
            "The Queen of the Damned (Vampire Chronicles (Paperback)) 0.0\n",
            "Catch 22 5639.0\n",
            "The Witching Hour (Lives of the Mayfair Witches) 5405.0\n",
            "Interview with the Vampire 4627.0\n",
            "The Tale of the Body Thief (Vampire Chronicles (Paperback)) 3978.0\n",
            "The Vampire Lestat (Vampire Chronicles, Book II) 4148.0\n",
            "\n",
            "norms:\n",
            "The Tale of the Body Thief (Vampire Chronicles (Paperback)) 3978.0\n",
            "The Vampire Lestat (Vampire Chronicles, Book II) 4148.0\n",
            "Interview with the Vampire 4627.0\n",
            "Memnoch the Devil (Vampire Chronicles, No 5) 4944.0\n",
            "Pandora: New Tales of the Vampires (New Tales of the Vampires) 5290.0\n",
            "\n",
            "kneighbors:\n",
            "The Vampire Lestat (Vampire Chronicles, Book II) 0.40147185\n",
            "The Tale of the Body Thief (Vampire Chronicles (Paperback)) 0.42259222\n",
            "Interview with the Vampire 0.46161252\n",
            "Memnoch the Devil (Vampire Chronicles, No 5) 0.60804343\n",
            "Pandora: New Tales of the Vampires (New Tales of the Vampires) 0.69310725\n"
          ]
        }
      ],
      "source": [
        "df = pd.merge(df_books, df_ratings, on='isbn')\n",
        "df.head()\n",
        "\n",
        "# get cooccurence matrix :: book title -> users who rated that book -> books rated by users -> matrix\n",
        "def get_cooccurence_matrix(title):\n",
        "  isbn = df_books[df_books['title'] == title]['isbn']\n",
        "  # print('isbn:', isbn.iloc[0])\n",
        "  users = df_ratings[df_ratings['isbn'] == isbn.iloc[0]]['user'].unique()\n",
        "  # print('users:', users[:5])\n",
        "  books = df_ratings[df_ratings['user'].isin(users)]\n",
        "  # print(books)\n",
        "  m = books.pivot_table(index='isbn', columns='user', values='rating').fillna(0)\n",
        "  # print(m)\n",
        "  print(\"Non zero values in cooccurence_matrix :%d\" % np.count_nonzero(m))\n",
        "  return m\n",
        "\n",
        "\n",
        "\n",
        "\n",
        "def get_recommends(book = \"\"):\n",
        "  cooccurence_matrix = get_cooccurence_matrix(book)\n",
        "\n",
        "  isbn = df_books[df_books['title'] == book]['isbn']\n",
        "\n",
        "  x = cooccurence_matrix.sub(cooccurence_matrix.loc[isbn.iloc[0]], axis=1).pow(2).sum(axis=1)\n",
        "\n",
        "  print('refs:')\n",
        "  for t in [\n",
        "            book,\n",
        "            'Catch 22',\n",
        "            'The Witching Hour (Lives of the Mayfair Witches)',\n",
        "            'Interview with the Vampire',\n",
        "            'The Tale of the Body Thief (Vampire Chronicles (Paperback))',\n",
        "            'The Vampire Lestat (Vampire Chronicles, Book II)'\n",
        "  ]:\n",
        "    isbn_x = df_books[df_books['title'] == t]['isbn']\n",
        "    print(t, x[isbn_x.iloc[0]])\n",
        "\n",
        "  # isbn_x = df_books[df_books['title'] == 'The Witching Hour (Lives of the Mayfair Witches)']['isbn']\n",
        "  # print('The Witching Hour (Lives of the Mayfair Witches)', x[isbn_x.iloc[0]])\n",
        "\n",
        "  # isbn_x = df_books[df_books['title'] == 'Interview with the Vampire']['isbn']\n",
        "  # print('Interview with the Vampire', x[isbn_x.iloc[0]])\n",
        "\n",
        "  x_book = cooccurence_matrix.loc[isbn.iloc[0]]\n",
        "  top_n = (cooccurence_matrix.sub(x_book, axis=1) ** 2).sum(axis=1).sort_values()\n",
        "  print()\n",
        "  print('norms:')\n",
        "  for i in range(1, 6):\n",
        "    print(df_books[df_books['isbn'] == top_n.index[i]]['title'].iloc[0], top_n.iloc[i])\n",
        "  \n",
        "  model_knn = NearestNeighbors(algorithm='brute', metric='cosine')\n",
        "  model_knn.fit(cooccurence_matrix)\n",
        "  distances, indices = model_knn.kneighbors(cooccurence_matrix.loc[isbn.iloc[0]].values.reshape(1, -1), n_neighbors=6)\n",
        "  \n",
        "  print()\n",
        "  print('kneighbors:')\n",
        "  for i, d in zip(indices[0][1:], distances[0][1:]):\n",
        "    print(df_books[df_books['isbn'] == cooccurence_matrix.index[i]]['title'].iloc[0], d)\n",
        "\n",
        "  return [book, [[df_books[df_books['isbn'] == cooccurence_matrix.index[i]]['title'].iloc[0], d] for i, d in zip(indices[0], distances[0])][1:]]\n",
        "\n",
        "# [\n",
        "#   'The Queen of the Damned (Vampire Chronicles (Paperback))',\n",
        "#   [\n",
        "#     ['Catch 22', 0.793983519077301], \n",
        "#     ['The Witching Hour (Lives of the Mayfair Witches)', 0.7448656558990479], \n",
        "#     ['Interview with the Vampire', 0.7345068454742432],\n",
        "#     ['The Tale of the Body Thief (Vampire Chronicles (Paperback))', 0.5376338362693787],\n",
        "#     ['The Vampire Lestat (Vampire Chronicles, Book II)', 0.5178412199020386]\n",
        "#   ]\n",
        "# ]\n",
        "books = get_recommends('The Queen of the Damned (Vampire Chronicles (Paperback))')"
      ]
    },
    {
      "cell_type": "markdown",
      "metadata": {
        "id": "eat9A2TKawHU"
      },
      "source": [
        "Use the cell below to test your function. The `test_book_recommendation()` function will inform you if you passed the challenge or need to keep trying."
      ]
    },
    {
      "cell_type": "code",
      "execution_count": 7,
      "metadata": {
        "id": "jd2SLCh8oxMh",
        "outputId": "79e8fbc6-30ee-41e6-b800-745e469ec25b",
        "colab": {
          "base_uri": "https://localhost:8080/"
        }
      },
      "outputs": [
        {
          "output_type": "stream",
          "name": "stdout",
          "text": [
            "Non zero values in cooccurence_matrix :40271\n",
            "refs:\n",
            "Where the Heart Is (Oprah's Book Club (Paperback)) 0.0\n",
            "Catch 22 20080.0\n",
            "The Witching Hour (Lives of the Mayfair Witches) 20282.0\n",
            "Interview with the Vampire 19636.0\n",
            "The Tale of the Body Thief (Vampire Chronicles (Paperback)) 20174.0\n",
            "The Vampire Lestat (Vampire Chronicles, Book II) 20034.0\n",
            "\n",
            "norms:\n",
            "The Lovely Bones: A Novel 19105.0\n",
            "Bridget Jones's Diary 19369.0\n",
            "She's Come Undone (Oprah's Book Club) 19371.0\n",
            "Interview with the Vampire 19636.0\n",
            "Life of Pi 19661.0\n",
            "\n",
            "kneighbors:\n",
            "The Lovely Bones: A Novel 0.7053724\n",
            "Bridget Jones's Diary 0.78692526\n",
            "She's Come Undone (Oprah's Book Club) 0.7917692\n",
            "The Pilot's Wife : A Novel 0.79883105\n",
            "Divine Secrets of the Ya-Ya Sisterhood: A Novel 0.80180484\n",
            "[\"Where the Heart Is (Oprah's Book Club (Paperback))\", [['The Lovely Bones: A Novel', 0.7053724], [\"Bridget Jones's Diary\", 0.78692526], [\"She's Come Undone (Oprah's Book Club)\", 0.7917692], [\"The Pilot's Wife : A Novel\", 0.79883105], ['Divine Secrets of the Ya-Ya Sisterhood: A Novel', 0.80180484]]]\n",
            "Non zero values in cooccurence_matrix :40271\n",
            "refs:\n",
            "Where the Heart Is (Oprah's Book Club (Paperback)) 0.0\n",
            "Catch 22 20080.0\n",
            "The Witching Hour (Lives of the Mayfair Witches) 20282.0\n",
            "Interview with the Vampire 19636.0\n",
            "The Tale of the Body Thief (Vampire Chronicles (Paperback)) 20174.0\n",
            "The Vampire Lestat (Vampire Chronicles, Book II) 20034.0\n",
            "\n",
            "norms:\n",
            "The Lovely Bones: A Novel 19105.0\n",
            "Bridget Jones's Diary 19369.0\n",
            "She's Come Undone (Oprah's Book Club) 19371.0\n",
            "Interview with the Vampire 19636.0\n",
            "Life of Pi 19661.0\n",
            "\n",
            "kneighbors:\n",
            "The Lovely Bones: A Novel 0.7053724\n",
            "Bridget Jones's Diary 0.78692526\n",
            "She's Come Undone (Oprah's Book Club) 0.7917692\n",
            "The Pilot's Wife : A Novel 0.79883105\n",
            "Divine Secrets of the Ya-Ya Sisterhood: A Novel 0.80180484\n",
            "You haven't passed yet. Keep trying!\n"
          ]
        }
      ],
      "source": [
        "books = get_recommends(\"Where the Heart Is (Oprah's Book Club (Paperback))\")\n",
        "print(books)\n",
        "\n",
        "def test_book_recommendation():\n",
        "  test_pass = True\n",
        "  recommends = get_recommends(\"Where the Heart Is (Oprah's Book Club (Paperback))\")\n",
        "  if recommends[0] != \"Where the Heart Is (Oprah's Book Club (Paperback))\":\n",
        "    test_pass = False\n",
        "  recommended_books = [\"I'll Be Seeing You\", 'The Weight of Water', 'The Surgeon', 'I Know This Much Is True']\n",
        "  recommended_books_dist = [0.8, 0.77, 0.77, 0.77]\n",
        "  for i in range(2): \n",
        "    if recommends[1][i][0] not in recommended_books:\n",
        "      test_pass = False\n",
        "    if abs(recommends[1][i][1] - recommended_books_dist[i]) >= 0.05:\n",
        "      test_pass = False\n",
        "  if test_pass:\n",
        "    print(\"You passed the challenge! 🎉🎉🎉🎉🎉\")\n",
        "  else:\n",
        "    print(\"You haven't passed yet. Keep trying!\")\n",
        "\n",
        "test_book_recommendation()"
      ]
    },
    {
      "cell_type": "code",
      "source": [
        ""
      ],
      "metadata": {
        "id": "hUZEzwqxNe0g"
      },
      "execution_count": 7,
      "outputs": []
    }
  ],
  "metadata": {
    "colab": {
      "collapsed_sections": [],
      "name": "fcc_book_recommendation_knn.ipynb",
      "provenance": []
    },
    "kernelspec": {
      "display_name": "Python 3",
      "language": "python",
      "name": "python3"
    },
    "language_info": {
      "codemirror_mode": {
        "name": "ipython",
        "version": 3
      },
      "file_extension": ".py",
      "mimetype": "text/x-python",
      "name": "python",
      "nbconvert_exporter": "python",
      "pygments_lexer": "ipython3",
      "version": "3.6.5"
    }
  },
  "nbformat": 4,
  "nbformat_minor": 0
}